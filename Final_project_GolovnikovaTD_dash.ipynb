{
 "cells": [
  {
   "cell_type": "markdown",
   "id": "fa611519",
   "metadata": {},
   "source": [
    "# Формирование модели монетизации"
   ]
  },
  {
   "cell_type": "markdown",
   "id": "a89ab84d",
   "metadata": {},
   "source": [
    "## Презентация\n",
    "\n",
    "ссылка: https://drive.google.com/file/d/1y3NtLFYRj9jB9WIjDBY461u_s2Z1921i/view?usp=sharing"
   ]
  },
  {
   "cell_type": "markdown",
   "id": "8e670fa5",
   "metadata": {},
   "source": [
    "Многие игры зарабатывают с помощью рекламы. И все они сталкиваются с противоречием:\n",
    "\n",
    "- Пользователь разозлится и уйдёт, если начать показывать ему рекламу раньше, чем игра его затянет.\n",
    "- Но  чем позже создатели игры включат рекламу, тем меньше они заработают.\n",
    "\n",
    "В нашем исследовании мы помогаем продакт-менеджеру игрового приложения \"Космические братья\" выбрать оптимальное время для запуска рекламы. Зная расходы на продвижение игры, он может рассчитать её окупаемость при разных сценариях.\n",
    "\n",
    "Основная монетизация игры — только планируется. Но предполагается, что в приложении будет происходить показ рекламы на экране с выбором типа объекта для постройки.\n",
    "\n",
    "Нам предоставлены данные по игре пользователей на первом уровне. Завершение первого уровня требует от игрока выполнения одного из двух условий:\n",
    "\n",
    "- Победа над первым врагом\n",
    "- Реализация проекта - разработка орбитальной сборки спутников\n",
    "\n",
    "\n",
    "__Цель исследования__ - сформировать модель монетизации игрового приложения.\n",
    " \n",
    "__Задачи для достижения цели:__\n",
    "\n",
    "1. Загрузка, осмотр и предобработка данных.\n",
    "2. Исследовательский анализ данных.\n",
    "3. Анализ влияние событий на совершение целевого события - перехода на экран выбора постройки. \n",
    "4. Проверка статистических гипотез.\n",
    "\n",
    "__1. Загрузка, осмотр и предобработка данных__\n",
    "\n",
    "- Проведем первичный осмотр данных, определим типы данных, проверим таблицы на наличие пропусков и дубликатов.\n",
    "- Определим возможные причины появления пропусков и необходимость их удаления/замены.\n",
    "- Определим возможные причины появления дубликатов, удалим их.\n",
    "- Переименуем столбцы при необходимости.\n",
    "- Приведем данные к соответствующим типам.\n",
    "- Создадим столбец с датой события в таблице game_actions.\n",
    "- Объединим таблицы game_actions и user_source.\n",
    "\n",
    "\n",
    "__2. Исследовательский анализ данных__  \n",
    "\n",
    "- Подтвердим период, за который нам предоставленны данные. \n",
    "- Определим количество активных игроков каждый день. Построим гистограмму динамики.\n",
    "- Посчитаем, сколько пользователей совершали каждое из событий игры. Отсортируем события по числу пользователей.\n",
    "- Определим среднее количество событий за каждый день. Определим количество построек в день/среднее количество построек в день. \n",
    "-  Посчитаем медианное, среднее и максимальное значение построек в день на каждого пользователя.\n",
    "-  Рассмотрим динамику активности игроков по типам объектов.\n",
    "\n",
    "\n",
    "__3. Анализ влияния событий на совершение целевого события__\n",
    "\n",
    "- Сформируем профили пользователей, рассчитаем длительность прохождения уровней и способ прохождения.\n",
    "- Посмотрим за какое время в среднем игроки завершают первый уровень.  Посмотрим количество событий и построек, включая проект, а также длительность прохождения уровня для каждой категории игроков. \n",
    "- Определим количество игроков, завершивших уровень с помощью завершения проекта или победы над соперником.\n",
    "- Определим  количество построек и построим гистрограмму распределения построенных объектов для всех игроков, прошедших уровень, и для продолжающих игроков.\n",
    "- Посмотрим, через какие каналы привлечены игроки. Посмотрим, есть ли типичные поведенческие паттерны в прохождении уровня у пользователя из разных источников.\n",
    "- Посчитаем CAC каждого игрока и суммарные затраты на рекламу за каждый день.\n",
    "- Посчитаем возможные доходы от игровой активности при стоимости одного клика по рекламе - 7 центов (0.07).\n",
    "   \n",
    "\n",
    "__4. Проверим статистические гипотезы__\n",
    "\n",
    "\n",
    "1. Нулевая гипотеза: Статистически значимых различий между временем прохождения уровня у пользователей, которые заканчивают уровень через реализацию проекта, и пользователей, которые заканчивают уровень победой над другим игроком, нет.\n",
    "   Альтернативная гипотеза: Статистически значимые различия между временем прохождения уровня у пользователей, которые заканчивают уровень через реализацию проекта, и пользователей, которые заканчивают уровень победой над другим игроком, есть.\n",
    "\n",
    "\n",
    "2. Нулевая гипотеза: Статистически значимых различий между  количеством построенных объектов у пользователей, которые заканчивают уровень через реализацию проекта, и пользователей, которые заканчивают уровень победой над другим игроком, нет.\n",
    "   Альтернативная гипотеза: Статистически значимые различия между количеством построенных объектов  у пользователей, которые заканчивают уровень через реализацию проекта, и пользователей, которые заканчивают уровень победой над другим игроком, есть.\n",
    "\n",
    "\n",
    "__5. Выводы и рекомендации__ \n",
    "\n",
    "1. Выводы о проделанной работе.\n",
    "2. Рекоммендации заказчику.\n",
    "\n",
    "\n"
   ]
  },
  {
   "cell_type": "markdown",
   "id": "4084a43b",
   "metadata": {},
   "source": [
    "## Загрузка, осмотр и предобработка данных \n",
    "\n",
    "\n",
    "### Первичный осмотр данных, определим типы данных, проверим таблицы на наличие пропусков и дубликатов."
   ]
  },
  {
   "cell_type": "code",
   "execution_count": 1,
   "id": "078f860c",
   "metadata": {},
   "outputs": [],
   "source": [
    "import pandas as pd\n",
    "import numpy as np\n",
    "from scipy import stats as st\n",
    "from io import BytesIO\n",
    "import requests\n",
    "import warnings\n",
    "warnings.simplefilter('ignore')\n",
    "import datetime as dt\n",
    "from datetime import datetime, timedelta\n",
    "import matplotlib.pyplot as plt \n",
    "import seaborn as sns\n",
    "sns.set(style='darkgrid', context='notebook', font='sans-serif', font_scale=1.2)"
   ]
  },
  {
   "cell_type": "code",
   "execution_count": 2,
   "id": "bbce6d66",
   "metadata": {},
   "outputs": [],
   "source": [
    "try:    \n",
    "    user_source, game_actions, ad_costs = (\n",
    "        pd.read_csv('user_source.csv'),\n",
    "        pd.read_csv('game_actions.csv'),\n",
    "        pd.read_csv('ad_costs.csv'))\n",
    "except:\n",
    "    user_source, game_actions, ad_costs = (\n",
    "        pd.read_csv('/datasets/user_source.csv'),\n",
    "        pd.read_csv('/datasets/game_actions.csv'),\n",
    "        pd.read_csv('/datasets/ad_costs.csv'))"
   ]
  },
  {
   "cell_type": "code",
   "execution_count": 3,
   "id": "3aa4025b",
   "metadata": {},
   "outputs": [],
   "source": [
    "def first_look (df: pd.DataFrame):\n",
    "    '''Функция получения первичной информации о датафрейме'''\n",
    "    print ('------------- Первые 5 строк ------------')\n",
    "    display(df.sample(5))\n",
    "    print('')\n",
    "    print ('------------- Типы данных ------------')\n",
    "    df.info()\n",
    "    print('')\n",
    "    print ('------------- Описание ------------')\n",
    "    print('')\n",
    "    display(df.describe().T)    \n",
    "    print ('------------- Пропуски ------------')\n",
    "    count = 0\n",
    "    shape_0 = df.shape[0]\n",
    "    for element in df.columns:\n",
    "        if df[element].isna().sum() > 0: \n",
    "            (print(element, ' - ', df[element].isna().sum(), \n",
    "                 'пропусков, ', \n",
    "                 round(df[element].isna().sum() * 100 / shape_0,2), \n",
    "                 '% от числа строк.'))\n",
    "    count = +1\n",
    "    if count == 0:\n",
    "        print('Пропусков НЕТ')\n",
    "    print('')\n",
    "    print('')\n",
    "    print ('------------- Дубликаты ------------')\n",
    "    if df.duplicated().sum() > 0:\n",
    "        print('Дубликатов: ', df.duplicated().sum())\n",
    "    else:\n",
    "        print('Дубликатов НЕТ')"
   ]
  },
  {
   "cell_type": "markdown",
   "id": "44421750",
   "metadata": {},
   "source": [
    "<div class=\"alert alert-success\">\n",
    "<b>Комментарий ревьюера v2.0:</b>☀️+ за подгрузку данных через try-except и отдельную функцию для вывода данных</div>"
   ]
  },
  {
   "cell_type": "code",
   "execution_count": 4,
   "id": "babf2d60",
   "metadata": {},
   "outputs": [
    {
     "name": "stdout",
     "output_type": "stream",
     "text": [
      "------------- Первые 5 строк ------------\n"
     ]
    },
    {
     "data": {
      "text/html": [
       "<div>\n",
       "<style scoped>\n",
       "    .dataframe tbody tr th:only-of-type {\n",
       "        vertical-align: middle;\n",
       "    }\n",
       "\n",
       "    .dataframe tbody tr th {\n",
       "        vertical-align: top;\n",
       "    }\n",
       "\n",
       "    .dataframe thead th {\n",
       "        text-align: right;\n",
       "    }\n",
       "</style>\n",
       "<table border=\"1\" class=\"dataframe\">\n",
       "  <thead>\n",
       "    <tr style=\"text-align: right;\">\n",
       "      <th></th>\n",
       "      <th>user_id</th>\n",
       "      <th>source</th>\n",
       "    </tr>\n",
       "  </thead>\n",
       "  <tbody>\n",
       "    <tr>\n",
       "      <th>10215</th>\n",
       "      <td>c0f97540-4c57-4d4f-b058-0f2d3916f2ae</td>\n",
       "      <td>youtube_channel_reklama</td>\n",
       "    </tr>\n",
       "    <tr>\n",
       "      <th>10946</th>\n",
       "      <td>cf2515d7-de62-402c-822f-857eea517277</td>\n",
       "      <td>yandex_direct</td>\n",
       "    </tr>\n",
       "    <tr>\n",
       "      <th>7153</th>\n",
       "      <td>8548b197-2da3-45b0-bb11-c497d36787cb</td>\n",
       "      <td>youtube_channel_reklama</td>\n",
       "    </tr>\n",
       "    <tr>\n",
       "      <th>269</th>\n",
       "      <td>04c7b0cf-ed46-4e9b-a251-1e8baab37195</td>\n",
       "      <td>youtube_channel_reklama</td>\n",
       "    </tr>\n",
       "    <tr>\n",
       "      <th>12851</th>\n",
       "      <td>f267a8ea-1b7e-4d09-8ccd-82a9a85664ab</td>\n",
       "      <td>instagram_new_adverts</td>\n",
       "    </tr>\n",
       "  </tbody>\n",
       "</table>\n",
       "</div>"
      ],
      "text/plain": [
       "                                    user_id                   source\n",
       "10215  c0f97540-4c57-4d4f-b058-0f2d3916f2ae  youtube_channel_reklama\n",
       "10946  cf2515d7-de62-402c-822f-857eea517277            yandex_direct\n",
       "7153   8548b197-2da3-45b0-bb11-c497d36787cb  youtube_channel_reklama\n",
       "269    04c7b0cf-ed46-4e9b-a251-1e8baab37195  youtube_channel_reklama\n",
       "12851  f267a8ea-1b7e-4d09-8ccd-82a9a85664ab    instagram_new_adverts"
      ]
     },
     "metadata": {},
     "output_type": "display_data"
    },
    {
     "name": "stdout",
     "output_type": "stream",
     "text": [
      "\n",
      "------------- Типы данных ------------\n",
      "<class 'pandas.core.frame.DataFrame'>\n",
      "RangeIndex: 13576 entries, 0 to 13575\n",
      "Data columns (total 2 columns):\n",
      " #   Column   Non-Null Count  Dtype \n",
      "---  ------   --------------  ----- \n",
      " 0   user_id  13576 non-null  object\n",
      " 1   source   13576 non-null  object\n",
      "dtypes: object(2)\n",
      "memory usage: 212.2+ KB\n",
      "\n",
      "------------- Описание ------------\n",
      "\n"
     ]
    },
    {
     "data": {
      "text/html": [
       "<div>\n",
       "<style scoped>\n",
       "    .dataframe tbody tr th:only-of-type {\n",
       "        vertical-align: middle;\n",
       "    }\n",
       "\n",
       "    .dataframe tbody tr th {\n",
       "        vertical-align: top;\n",
       "    }\n",
       "\n",
       "    .dataframe thead th {\n",
       "        text-align: right;\n",
       "    }\n",
       "</style>\n",
       "<table border=\"1\" class=\"dataframe\">\n",
       "  <thead>\n",
       "    <tr style=\"text-align: right;\">\n",
       "      <th></th>\n",
       "      <th>count</th>\n",
       "      <th>unique</th>\n",
       "      <th>top</th>\n",
       "      <th>freq</th>\n",
       "    </tr>\n",
       "  </thead>\n",
       "  <tbody>\n",
       "    <tr>\n",
       "      <th>user_id</th>\n",
       "      <td>13576</td>\n",
       "      <td>13576</td>\n",
       "      <td>4a06985f-1363-415d-af0f-fbf70e930d8d</td>\n",
       "      <td>1</td>\n",
       "    </tr>\n",
       "    <tr>\n",
       "      <th>source</th>\n",
       "      <td>13576</td>\n",
       "      <td>4</td>\n",
       "      <td>yandex_direct</td>\n",
       "      <td>4817</td>\n",
       "    </tr>\n",
       "  </tbody>\n",
       "</table>\n",
       "</div>"
      ],
      "text/plain": [
       "         count unique                                   top  freq\n",
       "user_id  13576  13576  4a06985f-1363-415d-af0f-fbf70e930d8d     1\n",
       "source   13576      4                         yandex_direct  4817"
      ]
     },
     "metadata": {},
     "output_type": "display_data"
    },
    {
     "name": "stdout",
     "output_type": "stream",
     "text": [
      "------------- Пропуски ------------\n",
      "\n",
      "\n",
      "------------- Дубликаты ------------\n",
      "Дубликатов НЕТ\n"
     ]
    }
   ],
   "source": [
    "first_look(user_source)"
   ]
  },
  {
   "cell_type": "code",
   "execution_count": 5,
   "id": "7c8798a2",
   "metadata": {},
   "outputs": [
    {
     "name": "stdout",
     "output_type": "stream",
     "text": [
      "------------- Первые 5 строк ------------\n"
     ]
    },
    {
     "data": {
      "text/html": [
       "<div>\n",
       "<style scoped>\n",
       "    .dataframe tbody tr th:only-of-type {\n",
       "        vertical-align: middle;\n",
       "    }\n",
       "\n",
       "    .dataframe tbody tr th {\n",
       "        vertical-align: top;\n",
       "    }\n",
       "\n",
       "    .dataframe thead th {\n",
       "        text-align: right;\n",
       "    }\n",
       "</style>\n",
       "<table border=\"1\" class=\"dataframe\">\n",
       "  <thead>\n",
       "    <tr style=\"text-align: right;\">\n",
       "      <th></th>\n",
       "      <th>event_datetime</th>\n",
       "      <th>event</th>\n",
       "      <th>building_type</th>\n",
       "      <th>user_id</th>\n",
       "      <th>project_type</th>\n",
       "    </tr>\n",
       "  </thead>\n",
       "  <tbody>\n",
       "    <tr>\n",
       "      <th>86216</th>\n",
       "      <td>2020-05-11 23:00:57</td>\n",
       "      <td>building</td>\n",
       "      <td>spaceport</td>\n",
       "      <td>f6f09260-736b-42e2-9b27-221522255949</td>\n",
       "      <td>NaN</td>\n",
       "    </tr>\n",
       "    <tr>\n",
       "      <th>77177</th>\n",
       "      <td>2020-05-10 22:12:21</td>\n",
       "      <td>building</td>\n",
       "      <td>spaceport</td>\n",
       "      <td>e5c2d348-9a44-4dea-8e3f-885dd7e0bfeb</td>\n",
       "      <td>NaN</td>\n",
       "    </tr>\n",
       "    <tr>\n",
       "      <th>7085</th>\n",
       "      <td>2020-05-04 20:56:45</td>\n",
       "      <td>building</td>\n",
       "      <td>assembly_shop</td>\n",
       "      <td>80175ca1-158c-4034-9c61-fae8cfe43d11</td>\n",
       "      <td>NaN</td>\n",
       "    </tr>\n",
       "    <tr>\n",
       "      <th>70393</th>\n",
       "      <td>2020-05-10 11:49:17</td>\n",
       "      <td>building</td>\n",
       "      <td>spaceport</td>\n",
       "      <td>90a27cf7-0cff-425e-b7b9-52e17be72d52</td>\n",
       "      <td>NaN</td>\n",
       "    </tr>\n",
       "    <tr>\n",
       "      <th>105049</th>\n",
       "      <td>2020-05-14 10:01:34</td>\n",
       "      <td>building</td>\n",
       "      <td>research_center</td>\n",
       "      <td>afafbafc-9073-4df0-87d3-929a8e5e74f6</td>\n",
       "      <td>NaN</td>\n",
       "    </tr>\n",
       "  </tbody>\n",
       "</table>\n",
       "</div>"
      ],
      "text/plain": [
       "             event_datetime     event    building_type  \\\n",
       "86216   2020-05-11 23:00:57  building        spaceport   \n",
       "77177   2020-05-10 22:12:21  building        spaceport   \n",
       "7085    2020-05-04 20:56:45  building    assembly_shop   \n",
       "70393   2020-05-10 11:49:17  building        spaceport   \n",
       "105049  2020-05-14 10:01:34  building  research_center   \n",
       "\n",
       "                                     user_id project_type  \n",
       "86216   f6f09260-736b-42e2-9b27-221522255949          NaN  \n",
       "77177   e5c2d348-9a44-4dea-8e3f-885dd7e0bfeb          NaN  \n",
       "7085    80175ca1-158c-4034-9c61-fae8cfe43d11          NaN  \n",
       "70393   90a27cf7-0cff-425e-b7b9-52e17be72d52          NaN  \n",
       "105049  afafbafc-9073-4df0-87d3-929a8e5e74f6          NaN  "
      ]
     },
     "metadata": {},
     "output_type": "display_data"
    },
    {
     "name": "stdout",
     "output_type": "stream",
     "text": [
      "\n",
      "------------- Типы данных ------------\n",
      "<class 'pandas.core.frame.DataFrame'>\n",
      "RangeIndex: 135640 entries, 0 to 135639\n",
      "Data columns (total 5 columns):\n",
      " #   Column          Non-Null Count   Dtype \n",
      "---  ------          --------------   ----- \n",
      " 0   event_datetime  135640 non-null  object\n",
      " 1   event           135640 non-null  object\n",
      " 2   building_type   127957 non-null  object\n",
      " 3   user_id         135640 non-null  object\n",
      " 4   project_type    1866 non-null    object\n",
      "dtypes: object(5)\n",
      "memory usage: 5.2+ MB\n",
      "\n",
      "------------- Описание ------------\n",
      "\n"
     ]
    },
    {
     "data": {
      "text/html": [
       "<div>\n",
       "<style scoped>\n",
       "    .dataframe tbody tr th:only-of-type {\n",
       "        vertical-align: middle;\n",
       "    }\n",
       "\n",
       "    .dataframe tbody tr th {\n",
       "        vertical-align: top;\n",
       "    }\n",
       "\n",
       "    .dataframe thead th {\n",
       "        text-align: right;\n",
       "    }\n",
       "</style>\n",
       "<table border=\"1\" class=\"dataframe\">\n",
       "  <thead>\n",
       "    <tr style=\"text-align: right;\">\n",
       "      <th></th>\n",
       "      <th>count</th>\n",
       "      <th>unique</th>\n",
       "      <th>top</th>\n",
       "      <th>freq</th>\n",
       "    </tr>\n",
       "  </thead>\n",
       "  <tbody>\n",
       "    <tr>\n",
       "      <th>event_datetime</th>\n",
       "      <td>135640</td>\n",
       "      <td>128790</td>\n",
       "      <td>2020-05-09 21:49:07</td>\n",
       "      <td>4</td>\n",
       "    </tr>\n",
       "    <tr>\n",
       "      <th>event</th>\n",
       "      <td>135640</td>\n",
       "      <td>3</td>\n",
       "      <td>building</td>\n",
       "      <td>127957</td>\n",
       "    </tr>\n",
       "    <tr>\n",
       "      <th>building_type</th>\n",
       "      <td>127957</td>\n",
       "      <td>3</td>\n",
       "      <td>spaceport</td>\n",
       "      <td>59325</td>\n",
       "    </tr>\n",
       "    <tr>\n",
       "      <th>user_id</th>\n",
       "      <td>135640</td>\n",
       "      <td>13576</td>\n",
       "      <td>bf542075-e3a2-4e79-82d8-3838e86d2a25</td>\n",
       "      <td>22</td>\n",
       "    </tr>\n",
       "    <tr>\n",
       "      <th>project_type</th>\n",
       "      <td>1866</td>\n",
       "      <td>1</td>\n",
       "      <td>satellite_orbital_assembly</td>\n",
       "      <td>1866</td>\n",
       "    </tr>\n",
       "  </tbody>\n",
       "</table>\n",
       "</div>"
      ],
      "text/plain": [
       "                 count  unique                                   top    freq\n",
       "event_datetime  135640  128790                   2020-05-09 21:49:07       4\n",
       "event           135640       3                              building  127957\n",
       "building_type   127957       3                             spaceport   59325\n",
       "user_id         135640   13576  bf542075-e3a2-4e79-82d8-3838e86d2a25      22\n",
       "project_type      1866       1            satellite_orbital_assembly    1866"
      ]
     },
     "metadata": {},
     "output_type": "display_data"
    },
    {
     "name": "stdout",
     "output_type": "stream",
     "text": [
      "------------- Пропуски ------------\n",
      "building_type  -  7683 пропусков,  5.66 % от числа строк.\n",
      "project_type  -  133774 пропусков,  98.62 % от числа строк.\n",
      "\n",
      "\n",
      "------------- Дубликаты ------------\n",
      "Дубликатов:  1\n"
     ]
    }
   ],
   "source": [
    "first_look(game_actions)"
   ]
  },
  {
   "cell_type": "code",
   "execution_count": 6,
   "id": "564028ab",
   "metadata": {
    "scrolled": false
   },
   "outputs": [
    {
     "name": "stdout",
     "output_type": "stream",
     "text": [
      "------------- Первые 5 строк ------------\n"
     ]
    },
    {
     "data": {
      "text/html": [
       "<div>\n",
       "<style scoped>\n",
       "    .dataframe tbody tr th:only-of-type {\n",
       "        vertical-align: middle;\n",
       "    }\n",
       "\n",
       "    .dataframe tbody tr th {\n",
       "        vertical-align: top;\n",
       "    }\n",
       "\n",
       "    .dataframe thead th {\n",
       "        text-align: right;\n",
       "    }\n",
       "</style>\n",
       "<table border=\"1\" class=\"dataframe\">\n",
       "  <thead>\n",
       "    <tr style=\"text-align: right;\">\n",
       "      <th></th>\n",
       "      <th>source</th>\n",
       "      <th>day</th>\n",
       "      <th>cost</th>\n",
       "    </tr>\n",
       "  </thead>\n",
       "  <tbody>\n",
       "    <tr>\n",
       "      <th>2</th>\n",
       "      <td>facebook_ads</td>\n",
       "      <td>2020-05-05</td>\n",
       "      <td>260.185754</td>\n",
       "    </tr>\n",
       "    <tr>\n",
       "      <th>17</th>\n",
       "      <td>yandex_direct</td>\n",
       "      <td>2020-05-06</td>\n",
       "      <td>180.917099</td>\n",
       "    </tr>\n",
       "    <tr>\n",
       "      <th>22</th>\n",
       "      <td>youtube_channel_reklama</td>\n",
       "      <td>2020-05-04</td>\n",
       "      <td>259.073224</td>\n",
       "    </tr>\n",
       "    <tr>\n",
       "      <th>8</th>\n",
       "      <td>instagram_new_adverts</td>\n",
       "      <td>2020-05-04</td>\n",
       "      <td>502.925451</td>\n",
       "    </tr>\n",
       "    <tr>\n",
       "      <th>25</th>\n",
       "      <td>youtube_channel_reklama</td>\n",
       "      <td>2020-05-07</td>\n",
       "      <td>55.740645</td>\n",
       "    </tr>\n",
       "  </tbody>\n",
       "</table>\n",
       "</div>"
      ],
      "text/plain": [
       "                     source         day        cost\n",
       "2              facebook_ads  2020-05-05  260.185754\n",
       "17            yandex_direct  2020-05-06  180.917099\n",
       "22  youtube_channel_reklama  2020-05-04  259.073224\n",
       "8     instagram_new_adverts  2020-05-04  502.925451\n",
       "25  youtube_channel_reklama  2020-05-07   55.740645"
      ]
     },
     "metadata": {},
     "output_type": "display_data"
    },
    {
     "name": "stdout",
     "output_type": "stream",
     "text": [
      "\n",
      "------------- Типы данных ------------\n",
      "<class 'pandas.core.frame.DataFrame'>\n",
      "RangeIndex: 28 entries, 0 to 27\n",
      "Data columns (total 3 columns):\n",
      " #   Column  Non-Null Count  Dtype  \n",
      "---  ------  --------------  -----  \n",
      " 0   source  28 non-null     object \n",
      " 1   day     28 non-null     object \n",
      " 2   cost    28 non-null     float64\n",
      "dtypes: float64(1), object(2)\n",
      "memory usage: 800.0+ bytes\n",
      "\n",
      "------------- Описание ------------\n",
      "\n"
     ]
    },
    {
     "data": {
      "text/html": [
       "<div>\n",
       "<style scoped>\n",
       "    .dataframe tbody tr th:only-of-type {\n",
       "        vertical-align: middle;\n",
       "    }\n",
       "\n",
       "    .dataframe tbody tr th {\n",
       "        vertical-align: top;\n",
       "    }\n",
       "\n",
       "    .dataframe thead th {\n",
       "        text-align: right;\n",
       "    }\n",
       "</style>\n",
       "<table border=\"1\" class=\"dataframe\">\n",
       "  <thead>\n",
       "    <tr style=\"text-align: right;\">\n",
       "      <th></th>\n",
       "      <th>count</th>\n",
       "      <th>mean</th>\n",
       "      <th>std</th>\n",
       "      <th>min</th>\n",
       "      <th>25%</th>\n",
       "      <th>50%</th>\n",
       "      <th>75%</th>\n",
       "      <th>max</th>\n",
       "    </tr>\n",
       "  </thead>\n",
       "  <tbody>\n",
       "    <tr>\n",
       "      <th>cost</th>\n",
       "      <td>28.0</td>\n",
       "      <td>271.556321</td>\n",
       "      <td>286.86765</td>\n",
       "      <td>23.314669</td>\n",
       "      <td>66.747365</td>\n",
       "      <td>160.056443</td>\n",
       "      <td>349.034473</td>\n",
       "      <td>969.139394</td>\n",
       "    </tr>\n",
       "  </tbody>\n",
       "</table>\n",
       "</div>"
      ],
      "text/plain": [
       "      count        mean        std        min        25%         50%  \\\n",
       "cost   28.0  271.556321  286.86765  23.314669  66.747365  160.056443   \n",
       "\n",
       "             75%         max  \n",
       "cost  349.034473  969.139394  "
      ]
     },
     "metadata": {},
     "output_type": "display_data"
    },
    {
     "name": "stdout",
     "output_type": "stream",
     "text": [
      "------------- Пропуски ------------\n",
      "\n",
      "\n",
      "------------- Дубликаты ------------\n",
      "Дубликатов НЕТ\n"
     ]
    }
   ],
   "source": [
    "first_look(ad_costs)"
   ]
  },
  {
   "cell_type": "markdown",
   "id": "8c504307",
   "metadata": {},
   "source": [
    "__Описание датасетов:__\n",
    "\n",
    "Основной датасет  - `game_actions` - содержит данные о событиях, совершенных в мобильной игре «Космические братья».\n",
    "\n",
    "В датасете содержатся данные первых пользователей приложения — когорты пользователей, которые начали пользоваться приложением в период с 4 по 10 мая включительно.\n",
    "\n",
    "Датасет *game_actions.csv*:\n",
    "\n",
    "- `event_datetime` — время события;\n",
    "- `event` — одно из трёх событий:\n",
    "    1. `building` — объект построен,\n",
    "    2. `finished_stage_1` — первый уровень завершён,\n",
    "    3. `project` — проект завершён;\n",
    "- `building_type` — один из трёх типов здания:\n",
    "    1. `assembly_shop` — сборочный цех,\n",
    "    2. `spaceport` — космопорт,\n",
    "    3. `research_center` — исследовательский центр;\n",
    "- `user_id` — идентификатор пользователя;\n",
    "- `project_type` — тип реализованного проекта;\n",
    "\n",
    "Помимо основного датасета есть два датасета с информацией о рекламных активностях. Они также помогут в решении задачи.\n",
    "\n",
    "Датасет *ad_costs.csv* содержит колонки:\n",
    "\n",
    "- `day` - день, в который был совершен клик по объявлению\n",
    "- `source` - источник трафика\n",
    "- `cost` - стоимость кликов\n",
    "\n",
    "Датасет user_source.csv содержит колонки:\n",
    "\n",
    "- `user_id` - идентификатор пользователя\n",
    "- `source` - источников, с которого пришёл пользователь, установивший приложение"
   ]
  },
  {
   "cell_type": "markdown",
   "id": "dd394735",
   "metadata": {},
   "source": [
    "### Предобработка данных"
   ]
  },
  {
   "cell_type": "markdown",
   "id": "24fe6a73",
   "metadata": {},
   "source": [
    "- Определим возможные причины появления пропусков и необходимость их удаления/замены.\n",
    "\n",
    "\n",
    "Мы определили, что пропуски в таблице `game_actions` присутствуют в столбцах `building_type` и `project_type`.\n",
    "Учитывая содержание столбца `project_type`, выведем уникальные значения столбца `event`, которые соответствуют пропускам в указанном столбце, и все уникальные значения столбца с событиями игры."
   ]
  },
  {
   "cell_type": "code",
   "execution_count": 7,
   "id": "cebb2259",
   "metadata": {},
   "outputs": [
    {
     "data": {
      "text/plain": [
       "array(['building', 'finished_stage_1'], dtype=object)"
      ]
     },
     "execution_count": 7,
     "metadata": {},
     "output_type": "execute_result"
    }
   ],
   "source": [
    "game_actions[game_actions['project_type'].isna()]['event'].unique()"
   ]
  },
  {
   "cell_type": "code",
   "execution_count": 8,
   "id": "814ee47b",
   "metadata": {},
   "outputs": [
    {
     "data": {
      "text/plain": [
       "array(['building', 'finished_stage_1', 'project'], dtype=object)"
      ]
     },
     "execution_count": 8,
     "metadata": {},
     "output_type": "execute_result"
    }
   ],
   "source": [
    "game_actions['event'].unique()"
   ]
  },
  {
   "cell_type": "markdown",
   "id": "3e176239",
   "metadata": {},
   "source": [
    "Мы видим, что столбец заполнен только на событии `project`. \n",
    "\n",
    "Аналогично, посмотрим, что указано с строках столбца `building_type` там, где в `project_type` пропуск. "
   ]
  },
  {
   "cell_type": "code",
   "execution_count": 9,
   "id": "67af6a40",
   "metadata": {
    "scrolled": true
   },
   "outputs": [
    {
     "name": "stdout",
     "output_type": "stream",
     "text": [
      "Уникальные значения building_type с пропусками в project_type: ['assembly_shop' 'spaceport' nan 'research_center']\n",
      "Все уникальные значения building_type: ['assembly_shop' 'spaceport' nan 'research_center']\n",
      "Уникальные значения project_type: [nan 'satellite_orbital_assembly']\n"
     ]
    }
   ],
   "source": [
    "print('Уникальные значения building_type с пропусками в project_type:', game_actions[game_actions['project_type'].isna()]['building_type'].unique())\n",
    "print('Все уникальные значения building_type:',game_actions['building_type'].unique())\n",
    "print('Уникальные значения project_type:',game_actions['project_type'].unique())"
   ]
  },
  {
   "cell_type": "markdown",
   "id": "2071f549",
   "metadata": {},
   "source": [
    "Название проектной постройки не указано в столбце `building_type`, поэтому можно считать, что часть пропусков столбца `building_type` соответствует строкам `project` в столбце `event` и `satellite_orbital_assembly` в столбце `project_type`.\n",
    "\n",
    "Разумно предположить, что остальная часть пропусков соответствует строкам `finished_stage_1` в столбце `event`."
   ]
  },
  {
   "cell_type": "code",
   "execution_count": 10,
   "id": "a85cea54",
   "metadata": {},
   "outputs": [
    {
     "data": {
      "text/plain": [
       "1866"
      ]
     },
     "execution_count": 10,
     "metadata": {},
     "output_type": "execute_result"
    }
   ],
   "source": [
    "game_actions[game_actions['event'] == \"project\"]['event'].count()"
   ]
  },
  {
   "cell_type": "code",
   "execution_count": 11,
   "id": "790026fe",
   "metadata": {},
   "outputs": [
    {
     "data": {
      "text/plain": [
       "5817"
      ]
     },
     "execution_count": 11,
     "metadata": {},
     "output_type": "execute_result"
    }
   ],
   "source": [
    "game_actions[(game_actions['event'] == \"finished_stage_1\") & (game_actions['project_type'].isna())]['event'].count()"
   ]
  },
  {
   "cell_type": "markdown",
   "id": "85902f29",
   "metadata": {},
   "source": [
    "В солбце `building_type`  -  7683 пропусков.\n",
    "\n",
    "Это количество игроков, завершивших первый уровень - 5817 прошли  первый уровень - `finished_stage_1` и 1866 из них прошли уровень завершением проекта - дополнительное событие `project`.\n",
    "\n",
    "Таким образом,  завершение первого уровня игры  влечет только постройка одного типа здания - `satellite_orbital_assembly`. Иные постройки не  обеспечивают успешное прохождение уровня. \n",
    "\n",
    "Между тем, `satellite_orbital_assembly` - это все еще тип постройки. Так как целевое событие для нашего исследования - клик на рекламном объявлении на странице выбора типа постройки, внесем соответствующие значения в столбец `building_type`.\n"
   ]
  },
  {
   "cell_type": "code",
   "execution_count": 12,
   "id": "40a213d7",
   "metadata": {
    "scrolled": true
   },
   "outputs": [
    {
     "name": "stdout",
     "output_type": "stream",
     "text": [
      "<class 'pandas.core.frame.DataFrame'>\n",
      "RangeIndex: 135640 entries, 0 to 135639\n",
      "Data columns (total 5 columns):\n",
      " #   Column          Non-Null Count   Dtype \n",
      "---  ------          --------------   ----- \n",
      " 0   event_datetime  135640 non-null  object\n",
      " 1   event           135640 non-null  object\n",
      " 2   building_type   129823 non-null  object\n",
      " 3   user_id         135640 non-null  object\n",
      " 4   project_type    1866 non-null    object\n",
      "dtypes: object(5)\n",
      "memory usage: 5.2+ MB\n"
     ]
    }
   ],
   "source": [
    "game_actions['building_type'] = game_actions['building_type'].fillna(game_actions['project_type'])\n",
    "game_actions.info()"
   ]
  },
  {
   "cell_type": "markdown",
   "id": "5e9c7541",
   "metadata": {},
   "source": [
    "От пропусков в столбце `project_type` мы избавляться не будем, поскольку мы не будем его использовать,и, впоследствии, создадим иной датафрейм с профилями пользователей."
   ]
  },
  {
   "cell_type": "markdown",
   "id": "ffc65be0",
   "metadata": {},
   "source": [
    "- Определим возможные причины появления дубликатов, удалим их.\n",
    "\n",
    "Мы выявили только один дубликат в таблице `game_actions`. С учетом содержания столбцов таблицы, стоит предположить, что дубликат произошел в результате системного сбоя, поскольку продублированы все столбцы датафрейма, включая дату и время, событие и номер игрока. \n",
    "\n",
    "Избавимся от дубликата."
   ]
  },
  {
   "cell_type": "code",
   "execution_count": 13,
   "id": "ac1c4ab8",
   "metadata": {
    "scrolled": false
   },
   "outputs": [
    {
     "data": {
      "text/plain": [
       "0"
      ]
     },
     "execution_count": 13,
     "metadata": {},
     "output_type": "execute_result"
    }
   ],
   "source": [
    "game_actions = game_actions.drop_duplicates()\n",
    "game_actions.duplicated().sum()"
   ]
  },
  {
   "cell_type": "markdown",
   "id": "4d2d905f",
   "metadata": {},
   "source": [
    "- Приведем данные к соответствующим типам. \n",
    "\n",
    "Переименуем столбец `day` в таблице ad_costs на `first_dt`. Также согласно условиям, оплата рекламных услуг авансировалась за день до даты фактических расходов. Приведем даты таблицы ad_costs в соответствие датам таблицы game_actions."
   ]
  },
  {
   "cell_type": "code",
   "execution_count": 14,
   "id": "609c9248",
   "metadata": {},
   "outputs": [
    {
     "name": "stdout",
     "output_type": "stream",
     "text": [
      "<class 'pandas.core.frame.DataFrame'>\n",
      "RangeIndex: 28 entries, 0 to 27\n",
      "Data columns (total 3 columns):\n",
      " #   Column    Non-Null Count  Dtype  \n",
      "---  ------    --------------  -----  \n",
      " 0   source    28 non-null     object \n",
      " 1   first_dt  28 non-null     object \n",
      " 2   cost      28 non-null     float64\n",
      "dtypes: float64(1), object(2)\n",
      "memory usage: 800.0+ bytes\n"
     ]
    }
   ],
   "source": [
    "game_actions['event_datetime'] = pd.to_datetime(game_actions['event_datetime'])\n",
    "ad_costs['day'] = pd.to_datetime(ad_costs['day'])\n",
    "ad_costs['day'] = ad_costs['day'] + timedelta(days=1)\n",
    "ad_costs['day'] = ad_costs['day'].dt.date\n",
    "ad_costs = ad_costs.rename(columns=\n",
    "                          {'day':'first_dt'})\n",
    "\n",
    "ad_costs.info()"
   ]
  },
  {
   "cell_type": "markdown",
   "id": "dc239f05",
   "metadata": {},
   "source": [
    "- Создадим столбец с датой события в таблице `game_actions`.\n"
   ]
  },
  {
   "cell_type": "code",
   "execution_count": 15,
   "id": "fe65ff12",
   "metadata": {},
   "outputs": [],
   "source": [
    "game_actions['dt'] = game_actions['event_datetime'].dt.date"
   ]
  },
  {
   "cell_type": "markdown",
   "id": "ecee1483",
   "metadata": {},
   "source": [
    "- Объединим таблицы `game_actions` и `user_source`."
   ]
  },
  {
   "cell_type": "code",
   "execution_count": 16,
   "id": "ff5e25cb",
   "metadata": {
    "scrolled": true
   },
   "outputs": [
    {
     "data": {
      "text/html": [
       "<div>\n",
       "<style scoped>\n",
       "    .dataframe tbody tr th:only-of-type {\n",
       "        vertical-align: middle;\n",
       "    }\n",
       "\n",
       "    .dataframe tbody tr th {\n",
       "        vertical-align: top;\n",
       "    }\n",
       "\n",
       "    .dataframe thead th {\n",
       "        text-align: right;\n",
       "    }\n",
       "</style>\n",
       "<table border=\"1\" class=\"dataframe\">\n",
       "  <thead>\n",
       "    <tr style=\"text-align: right;\">\n",
       "      <th></th>\n",
       "      <th>event_datetime</th>\n",
       "      <th>event</th>\n",
       "      <th>building_type</th>\n",
       "      <th>user_id</th>\n",
       "      <th>project_type</th>\n",
       "      <th>dt</th>\n",
       "      <th>source</th>\n",
       "    </tr>\n",
       "  </thead>\n",
       "  <tbody>\n",
       "    <tr>\n",
       "      <th>0</th>\n",
       "      <td>2020-05-04 00:00:01</td>\n",
       "      <td>building</td>\n",
       "      <td>assembly_shop</td>\n",
       "      <td>55e92310-cb8e-4754-b622-597e124b03de</td>\n",
       "      <td>NaN</td>\n",
       "      <td>2020-05-04</td>\n",
       "      <td>youtube_channel_reklama</td>\n",
       "    </tr>\n",
       "    <tr>\n",
       "      <th>1</th>\n",
       "      <td>2020-05-05 05:20:15</td>\n",
       "      <td>building</td>\n",
       "      <td>assembly_shop</td>\n",
       "      <td>55e92310-cb8e-4754-b622-597e124b03de</td>\n",
       "      <td>NaN</td>\n",
       "      <td>2020-05-05</td>\n",
       "      <td>youtube_channel_reklama</td>\n",
       "    </tr>\n",
       "    <tr>\n",
       "      <th>2</th>\n",
       "      <td>2020-05-05 19:24:02</td>\n",
       "      <td>building</td>\n",
       "      <td>assembly_shop</td>\n",
       "      <td>55e92310-cb8e-4754-b622-597e124b03de</td>\n",
       "      <td>NaN</td>\n",
       "      <td>2020-05-05</td>\n",
       "      <td>youtube_channel_reklama</td>\n",
       "    </tr>\n",
       "    <tr>\n",
       "      <th>3</th>\n",
       "      <td>2020-05-05 20:59:19</td>\n",
       "      <td>building</td>\n",
       "      <td>assembly_shop</td>\n",
       "      <td>55e92310-cb8e-4754-b622-597e124b03de</td>\n",
       "      <td>NaN</td>\n",
       "      <td>2020-05-05</td>\n",
       "      <td>youtube_channel_reklama</td>\n",
       "    </tr>\n",
       "    <tr>\n",
       "      <th>4</th>\n",
       "      <td>2020-05-06 00:52:56</td>\n",
       "      <td>building</td>\n",
       "      <td>assembly_shop</td>\n",
       "      <td>55e92310-cb8e-4754-b622-597e124b03de</td>\n",
       "      <td>NaN</td>\n",
       "      <td>2020-05-06</td>\n",
       "      <td>youtube_channel_reklama</td>\n",
       "    </tr>\n",
       "  </tbody>\n",
       "</table>\n",
       "</div>"
      ],
      "text/plain": [
       "       event_datetime     event  building_type  \\\n",
       "0 2020-05-04 00:00:01  building  assembly_shop   \n",
       "1 2020-05-05 05:20:15  building  assembly_shop   \n",
       "2 2020-05-05 19:24:02  building  assembly_shop   \n",
       "3 2020-05-05 20:59:19  building  assembly_shop   \n",
       "4 2020-05-06 00:52:56  building  assembly_shop   \n",
       "\n",
       "                                user_id project_type          dt  \\\n",
       "0  55e92310-cb8e-4754-b622-597e124b03de          NaN  2020-05-04   \n",
       "1  55e92310-cb8e-4754-b622-597e124b03de          NaN  2020-05-05   \n",
       "2  55e92310-cb8e-4754-b622-597e124b03de          NaN  2020-05-05   \n",
       "3  55e92310-cb8e-4754-b622-597e124b03de          NaN  2020-05-05   \n",
       "4  55e92310-cb8e-4754-b622-597e124b03de          NaN  2020-05-06   \n",
       "\n",
       "                    source  \n",
       "0  youtube_channel_reklama  \n",
       "1  youtube_channel_reklama  \n",
       "2  youtube_channel_reklama  \n",
       "3  youtube_channel_reklama  \n",
       "4  youtube_channel_reklama  "
      ]
     },
     "execution_count": 16,
     "metadata": {},
     "output_type": "execute_result"
    }
   ],
   "source": [
    "game_actions = game_actions.merge(user_source, on= 'user_id')\n",
    "game_actions.head()"
   ]
  },
  {
   "cell_type": "markdown",
   "id": "3b612d31",
   "metadata": {},
   "source": [
    "Мы провели подготовку данных к исследованию, изучили их содержание и добавили в основной датафрейм необходимые нам столбцы. Теперь приступим к анализу."
   ]
  },
  {
   "cell_type": "markdown",
   "id": "8e46a7be",
   "metadata": {},
   "source": [
    "<div class=\"alert alert-success\">\n",
    "<b>Комментарий ревьюера v2.0:</b>☀️На этом этапе все хорошо. Согласна, дубликат не нужен, пропуски ты обосновала, но было бы очень хорошо, если бы ты мне подробнее объяснила зачем заполнять пропуски в building_type</div>"
   ]
  },
  {
   "cell_type": "markdown",
   "id": "1668484c",
   "metadata": {},
   "source": [
    "## Исследовательский анализ данных"
   ]
  },
  {
   "cell_type": "markdown",
   "id": "42b5e4b9",
   "metadata": {},
   "source": [
    "### Проверим период, за который нам предоставленны данные. \n"
   ]
  },
  {
   "cell_type": "code",
   "execution_count": 17,
   "id": "0e13184f",
   "metadata": {
    "scrolled": true
   },
   "outputs": [
    {
     "name": "stdout",
     "output_type": "stream",
     "text": [
      "Минимальная дата: 2020-05-04\n",
      "Максимальная дата: 2020-06-05\n",
      "Период: 32 days, 0:00:00\n"
     ]
    }
   ],
   "source": [
    "print('Минимальная дата:',game_actions['dt'].min())\n",
    "print('Максимальная дата:',game_actions['dt'].max())\n",
    "print('Период:', game_actions['dt'].max()-game_actions['dt'].min())"
   ]
  },
  {
   "cell_type": "markdown",
   "id": "d0224918",
   "metadata": {},
   "source": [
    "В нашем распоряжении данные об одной когорте пользователей за 32 дня их пользования игрой на 1 уровне."
   ]
  },
  {
   "cell_type": "markdown",
   "id": "18540cbb",
   "metadata": {},
   "source": [
    "### Определим общее количество активных игроков каждый день. Построим гистограмму динамики."
   ]
  },
  {
   "cell_type": "code",
   "execution_count": 18,
   "id": "fa3fe755",
   "metadata": {},
   "outputs": [
    {
     "data": {
      "text/html": [
       "<div>\n",
       "<style scoped>\n",
       "    .dataframe tbody tr th:only-of-type {\n",
       "        vertical-align: middle;\n",
       "    }\n",
       "\n",
       "    .dataframe tbody tr th {\n",
       "        vertical-align: top;\n",
       "    }\n",
       "\n",
       "    .dataframe thead th {\n",
       "        text-align: right;\n",
       "    }\n",
       "</style>\n",
       "<table border=\"1\" class=\"dataframe\">\n",
       "  <thead>\n",
       "    <tr style=\"text-align: right;\">\n",
       "      <th></th>\n",
       "      <th>dt</th>\n",
       "      <th>user_id</th>\n",
       "    </tr>\n",
       "  </thead>\n",
       "  <tbody>\n",
       "    <tr>\n",
       "      <th>0</th>\n",
       "      <td>2020-05-10</td>\n",
       "      <td>9219</td>\n",
       "    </tr>\n",
       "    <tr>\n",
       "      <th>1</th>\n",
       "      <td>2020-05-09</td>\n",
       "      <td>8394</td>\n",
       "    </tr>\n",
       "    <tr>\n",
       "      <th>2</th>\n",
       "      <td>2020-05-08</td>\n",
       "      <td>7891</td>\n",
       "    </tr>\n",
       "    <tr>\n",
       "      <th>3</th>\n",
       "      <td>2020-05-07</td>\n",
       "      <td>7384</td>\n",
       "    </tr>\n",
       "    <tr>\n",
       "      <th>4</th>\n",
       "      <td>2020-05-06</td>\n",
       "      <td>6854</td>\n",
       "    </tr>\n",
       "  </tbody>\n",
       "</table>\n",
       "</div>"
      ],
      "text/plain": [
       "           dt  user_id\n",
       "0  2020-05-10     9219\n",
       "1  2020-05-09     8394\n",
       "2  2020-05-08     7891\n",
       "3  2020-05-07     7384\n",
       "4  2020-05-06     6854"
      ]
     },
     "execution_count": 18,
     "metadata": {},
     "output_type": "execute_result"
    }
   ],
   "source": [
    "daily_act = game_actions.groupby('dt').agg({'user_id':'nunique'}).sort_values(by='user_id', ascending=False).reset_index()\n",
    "daily_act.head(5)"
   ]
  },
  {
   "cell_type": "code",
   "execution_count": 19,
   "id": "536a2a5b",
   "metadata": {},
   "outputs": [
    {
     "data": {
      "image/png": "[encoded data removed]",
      "text/plain": [
       "<Figure size 864x432 with 1 Axes>"
      ]
     },
     "metadata": {},
     "output_type": "display_data"
    }
   ],
   "source": [
    "daily_act.plot(x='dt',grid=True, legend=True, figsize=(12, 6), rot=45)\n",
    "plt.title('Общее количество игроков в игре каждый день')\n",
    "plt.xlabel('Дата')\n",
    "plt.ylabel('Количество')\n",
    "plt.show()"
   ]
  },
  {
   "cell_type": "markdown",
   "id": "044d26fe",
   "metadata": {},
   "source": [
    "На графике заметен рост активности пользователей  до 10 мая, а затем резкое снижение ежедневного количества действий пользователей до показателей первого дня. \n",
    "\n",
    "\n",
    "В отсутствие иных факторов самым очевидным является то, что в данном исследовании мы анализируем действия только одной когорты игроков, поэтому активность тех, кто присоединился к игре после 11 мая, на графике выше не учтена. Дальше мы разберемся, почему после 5-7 дней пользования игрой, игроки стали совершать меньше действий."
   ]
  },
  {
   "cell_type": "markdown",
   "id": "00bfc1b0",
   "metadata": {},
   "source": [
    "<div class=\"alert alert-success\">\n",
    "<b>Комментарий ревьюера v2.0:</b>☀️Согласна с тобой. Действительно наблюдается спад активности после 10 мая, может, это связано с праздниками, а может, нет</div>"
   ]
  },
  {
   "cell_type": "markdown",
   "id": "d3a8cb19",
   "metadata": {},
   "source": [
    "### Посчитаем, сколько пользователей совершали каждое из событий игры. Отсортируем события по числу пользователей."
   ]
  },
  {
   "cell_type": "code",
   "execution_count": 20,
   "id": "1f20416c",
   "metadata": {
    "scrolled": false
   },
   "outputs": [
    {
     "data": {
      "text/html": [
       "<div>\n",
       "<style scoped>\n",
       "    .dataframe tbody tr th:only-of-type {\n",
       "        vertical-align: middle;\n",
       "    }\n",
       "\n",
       "    .dataframe tbody tr th {\n",
       "        vertical-align: top;\n",
       "    }\n",
       "\n",
       "    .dataframe thead th {\n",
       "        text-align: right;\n",
       "    }\n",
       "</style>\n",
       "<table border=\"1\" class=\"dataframe\">\n",
       "  <thead>\n",
       "    <tr style=\"text-align: right;\">\n",
       "      <th></th>\n",
       "      <th>event</th>\n",
       "      <th>user_id</th>\n",
       "    </tr>\n",
       "  </thead>\n",
       "  <tbody>\n",
       "    <tr>\n",
       "      <th>0</th>\n",
       "      <td>building</td>\n",
       "      <td>127956</td>\n",
       "    </tr>\n",
       "    <tr>\n",
       "      <th>1</th>\n",
       "      <td>finished_stage_1</td>\n",
       "      <td>5817</td>\n",
       "    </tr>\n",
       "    <tr>\n",
       "      <th>2</th>\n",
       "      <td>project</td>\n",
       "      <td>1866</td>\n",
       "    </tr>\n",
       "  </tbody>\n",
       "</table>\n",
       "</div>"
      ],
      "text/plain": [
       "              event  user_id\n",
       "0          building   127956\n",
       "1  finished_stage_1     5817\n",
       "2           project     1866"
      ]
     },
     "execution_count": 20,
     "metadata": {},
     "output_type": "execute_result"
    }
   ],
   "source": [
    "events = (game_actions.groupby('event')\n",
    "          .agg({'user_id':'count'})\n",
    "          .sort_values(by='user_id', ascending = False)\n",
    "          .reset_index())\n",
    "events"
   ]
  },
  {
   "cell_type": "code",
   "execution_count": 21,
   "id": "d1724f52",
   "metadata": {},
   "outputs": [
    {
     "data": {
      "text/plain": [
       "13576"
      ]
     },
     "execution_count": 21,
     "metadata": {},
     "output_type": "execute_result"
    }
   ],
   "source": [
    "game_actions['user_id'].nunique()"
   ]
  },
  {
   "cell_type": "markdown",
   "id": "cf4143c0",
   "metadata": {},
   "source": [
    "Наибольшее число событий относится на постройку сооружений  - за 32 дня 13576 пользователя построили 127 956 сооружений (включая проекты). Количество событий - завершение проекта и прохождение уровня - совпадает с нашими расчетами выше. \n",
    "\n",
    "Между тем, стоит учесть, что проект - это тоже постройка, то целевое событие ожидает игроков как перед постройкой обычного сооружения, так и перед выполнением проекта."
   ]
  },
  {
   "cell_type": "markdown",
   "id": "1f6a7f7a",
   "metadata": {},
   "source": [
    "<div class=\"alert alert-success\">\n",
    "<b>Комментарий ревьюера v2.0:</b>☀️Все верно и логично, для прохождения уровня нужно построить здания, сборочные цеха и исследовательские центры.</div>"
   ]
  },
  {
   "cell_type": "markdown",
   "id": "a6279a20",
   "metadata": {},
   "source": [
    "### Определим среднее количество событий за каждый день. Определим количество построек в день/среднее количество построек в день. Построим гистограмму динамики по дням.\n"
   ]
  },
  {
   "cell_type": "code",
   "execution_count": 22,
   "id": "45768bf1",
   "metadata": {
    "scrolled": true
   },
   "outputs": [
    {
     "data": {
      "text/html": [
       "<div>\n",
       "<style scoped>\n",
       "    .dataframe tbody tr th:only-of-type {\n",
       "        vertical-align: middle;\n",
       "    }\n",
       "\n",
       "    .dataframe tbody tr th {\n",
       "        vertical-align: top;\n",
       "    }\n",
       "\n",
       "    .dataframe thead th {\n",
       "        text-align: right;\n",
       "    }\n",
       "</style>\n",
       "<table border=\"1\" class=\"dataframe\">\n",
       "  <thead>\n",
       "    <tr style=\"text-align: right;\">\n",
       "      <th></th>\n",
       "      <th>dt</th>\n",
       "      <th>event</th>\n",
       "      <th>user_id</th>\n",
       "    </tr>\n",
       "  </thead>\n",
       "  <tbody>\n",
       "    <tr>\n",
       "      <th>0</th>\n",
       "      <td>2020-05-04</td>\n",
       "      <td>building</td>\n",
       "      <td>8170</td>\n",
       "    </tr>\n",
       "    <tr>\n",
       "      <th>1</th>\n",
       "      <td>2020-05-04</td>\n",
       "      <td>finished_stage_1</td>\n",
       "      <td>1</td>\n",
       "    </tr>\n",
       "    <tr>\n",
       "      <th>2</th>\n",
       "      <td>2020-05-05</td>\n",
       "      <td>building</td>\n",
       "      <td>9052</td>\n",
       "    </tr>\n",
       "    <tr>\n",
       "      <th>3</th>\n",
       "      <td>2020-05-05</td>\n",
       "      <td>finished_stage_1</td>\n",
       "      <td>3</td>\n",
       "    </tr>\n",
       "    <tr>\n",
       "      <th>4</th>\n",
       "      <td>2020-05-06</td>\n",
       "      <td>building</td>\n",
       "      <td>9921</td>\n",
       "    </tr>\n",
       "  </tbody>\n",
       "</table>\n",
       "</div>"
      ],
      "text/plain": [
       "           dt             event  user_id\n",
       "0  2020-05-04          building     8170\n",
       "1  2020-05-04  finished_stage_1        1\n",
       "2  2020-05-05          building     9052\n",
       "3  2020-05-05  finished_stage_1        3\n",
       "4  2020-05-06          building     9921"
      ]
     },
     "execution_count": 22,
     "metadata": {},
     "output_type": "execute_result"
    }
   ],
   "source": [
    "daily_event = game_actions.groupby(['dt', 'event']).agg({'user_id':'count'}).reset_index()\n",
    "daily_event.head(5)"
   ]
  },
  {
   "cell_type": "code",
   "execution_count": 23,
   "id": "3ec06ba7",
   "metadata": {},
   "outputs": [
    {
     "name": "stdout",
     "output_type": "stream",
     "text": [
      "Первое прохождение уровня dt               2020-05-04\n",
      "event      finished_stage_1\n",
      "user_id                   1\n",
      "dtype: object\n",
      "----------------------------\n",
      "Первый проект dt         2020-05-08\n",
      "event         project\n",
      "user_id             1\n",
      "dtype: object\n"
     ]
    }
   ],
   "source": [
    "print('Первое прохождение уровня', daily_event[daily_event['event'] == 'finished_stage_1'].min())\n",
    "print('----------------------------')\n",
    "print('Первый проект', daily_event[daily_event['event'] == 'project'].min())"
   ]
  },
  {
   "cell_type": "code",
   "execution_count": 24,
   "id": "21747862",
   "metadata": {
    "scrolled": false
   },
   "outputs": [
    {
     "data": {
      "image/png": "[encoded data removed]",
      "text/plain": [
       "<Figure size 1008x360 with 1 Axes>"
      ]
     },
     "metadata": {},
     "output_type": "display_data"
    }
   ],
   "source": [
    "plt.figure(figsize=(14, 5))\n",
    "sns.barplot(data = daily_event,x = 'dt', y= 'user_id', hue='event',  palette = 'viridis_r')\n",
    "plt.title('Общее количество событий в игре каждый день')\n",
    "plt.xlabel('Дата')\n",
    "plt.ylabel('Количество')\n",
    "plt.legend(title='Событие', title_fontsize='12')\n",
    "plt.xticks(rotation=60);"
   ]
  },
  {
   "cell_type": "markdown",
   "id": "7ab9aff9",
   "metadata": {},
   "source": [
    "Первую неделю игры пользователи предпочитали только сооружать новые постройки. Хотя один из пользователей прошел первый уровень в первый же день. \n",
    "\n",
    "Построим аналогичный график без учета построек зданий вне проекта."
   ]
  },
  {
   "cell_type": "code",
   "execution_count": 25,
   "id": "4a708b37",
   "metadata": {},
   "outputs": [
    {
     "data": {
      "image/png": "[encoded data removed]",
      "text/plain": [
       "<Figure size 1008x360 with 1 Axes>"
      ]
     },
     "metadata": {},
     "output_type": "display_data"
    }
   ],
   "source": [
    "plt.figure(figsize=(14, 5))\n",
    "sns.barplot(data = daily_event[daily_event['event'] !='building'],x = 'dt', y= 'user_id', \n",
    "            hue='event',  palette = 'viridis_r')\n",
    "plt.title('Общее количество завершений уровня и проектов в игре каждый день')\n",
    "plt.xlabel('Дата')\n",
    "plt.ylabel('Количество')\n",
    "plt.legend(title='Событие', title_fontsize='12')\n",
    "plt.xticks(rotation=45);"
   ]
  },
  {
   "cell_type": "markdown",
   "id": "bcab1e17",
   "metadata": {},
   "source": [
    "К выполнению проекта игроки начали приступать только с 8го мая, но в незначительном количестве - на графике это явным образом видно не ранее 10го мая.\n",
    "\n",
    "В целом, прохождение 1-го уровня через победу соперника, а не через выполнение проекта более популярно среди игроков \"Космических братьев\"."
   ]
  },
  {
   "cell_type": "markdown",
   "id": "31b623aa",
   "metadata": {},
   "source": [
    "<div class=\"alert alert-success\">\n",
    "<b>Комментарий ревьюера v2.0:</b>☀️Отлично, что ты построила второй график без учета building. На первом графике динамику finished_stage_1 и project совсем не видно, а на этом очень хорошо и наглядно:)</div>"
   ]
  },
  {
   "cell_type": "markdown",
   "id": "23f958ac",
   "metadata": {},
   "source": [
    "### Посчитаем медианное, среднее и максимальное значение количества построек в день на одного пользователя.\n",
    "\n",
    "Так как предполагается, что  целевое действие - клик по рекламному объявлению - игроки должны будут произвести на этапе выбора объекта строительства, количество построек будет означать количество раз, когда игрок зашел на страницу выбора типа сооружения."
   ]
  },
  {
   "cell_type": "code",
   "execution_count": 26,
   "id": "b9a19dfa",
   "metadata": {},
   "outputs": [
    {
     "name": "stdout",
     "output_type": "stream",
     "text": [
      "Mедианное количество событий в день на одного игрока: 1.18\n",
      "Среднее количество событий в день на одного игрока: 1.24\n",
      "Максимальное количество событий в день на одного игрока: 1.0\n"
     ]
    }
   ],
   "source": [
    "filtered_game = game_actions[game_actions['event'] != \"finished_stage_1\"]\n",
    "groupped_game = filtered_game.groupby(['dt', 'user_id']).agg({'event':'count'}).reset_index()\n",
    "evens_per_day = groupped_game.groupby('dt').agg({'event':'mean'}).reset_index()\n",
    "evens_per_day['event'] = evens_per_day['event'].astype('float')\n",
    "print('Mедианное количество событий в день на одного игрока:', round(evens_per_day['event'].median(),2))\n",
    "print('Среднее количество событий в день на одного игрока:', round(evens_per_day['event'].mean(),2))\n",
    "print('Максимальное количество событий в день на одного игрока:', round(evens_per_day['event'].min(),2))"
   ]
  },
  {
   "cell_type": "markdown",
   "id": "02e2352c",
   "metadata": {},
   "source": [
    "Совпадение масштаба и изменений двух графиков выше по количеству пользователей и количества событий подтверждается нашим расчетом - в среднем пользователи за один день проходили только одно событие на первом уровне, и, значит, не более одного раза в день совершали выбор сооружаемого объекта."
   ]
  },
  {
   "cell_type": "markdown",
   "id": "07f1d711",
   "metadata": {},
   "source": [
    "<div class=\"alert alert-danger\">\n",
    "<b>Комментарий ревьюера v2.0:</b>Не очень поняла, что значит \"целевого события - выбор типа сооружения\"?</div>"
   ]
  },
  {
   "cell_type": "markdown",
   "id": "5c73740f",
   "metadata": {},
   "source": [
    "<div class=\"alert alert-info\"> <b>Комментарий студента:</b> Исправила мысль </div>"
   ]
  },
  {
   "cell_type": "markdown",
   "id": "e001a6aa",
   "metadata": {},
   "source": [
    "<div class=\"alert alert-success\">\n",
    "<b>Комментарий ревьюера:</b>☀️Отлично:)</div>\n"
   ]
  },
  {
   "cell_type": "markdown",
   "id": "0d41790c",
   "metadata": {},
   "source": [
    "### Рассмотрим динамику активности игроков по типам объектов"
   ]
  },
  {
   "cell_type": "code",
   "execution_count": 27,
   "id": "a2b6fc6f",
   "metadata": {},
   "outputs": [
    {
     "data": {
      "image/png": "[encoded data removed]",
      "text/plain": [
       "<Figure size 864x432 with 1 Axes>"
      ]
     },
     "metadata": {},
     "output_type": "display_data"
    }
   ],
   "source": [
    "game_actions.pivot_table(index='dt', \n",
    "                         columns='building_type', \n",
    "                         values='user_id',\n",
    "                         aggfunc='count').reset_index().plot(x='dt',\n",
    "                                                             grid=True, \n",
    "                                                             legend=True, \n",
    "                                                             figsize=(12, 6), rot = 45)\n",
    "plt.title('Динамика активности игроков по типам объектов')\n",
    "plt.xlabel(None)\n",
    "plt.ylabel('Количество событий по каждому объекту')\n",
    "plt.legend(title='Типы сооружений') \n",
    "plt.show()"
   ]
  },
  {
   "cell_type": "markdown",
   "id": "a63db994",
   "metadata": {
    "scrolled": false
   },
   "source": [
    "В первые дни пользования игрой игроки в основном выбирали `assembly_shop`  - практически 5 дней количество сооружений почти достигало 8 тысяч.\n",
    "\n",
    "\n",
    "Затем популярность начали набирать `spaceport` и `research_center`. Учитывая уровень популярности `assembly_shop` и внезапное прекращение графика по указанному объекту с окончанием первой недели, можно предположить, что указанный тип постройки является обязательным для новых пользователей. В то же время `assembly_shop` - это сборочный цех, а значит, столько активное сооружение именно этого типа постройки в первые дни игры обусловлено целью игроков упросить и ускорить строительство иных сооружений с помощью цеха.\n"
   ]
  },
  {
   "cell_type": "markdown",
   "id": "82a75850",
   "metadata": {},
   "source": [
    "<div class=\"alert alert-warning\">\n",
    "<b>Комментарий ревьюера v2.0:</b>Предположение хорошее, его можно проверить даже) вообще assembly_shop - сборочный цех, чем их больше, тем быстрее строятся другие здания. Такое поведение игроков может обуславливаться выбором стратегии</div>"
   ]
  },
  {
   "cell_type": "markdown",
   "id": "ea4fa323",
   "metadata": {},
   "source": [
    "<div class=\"alert alert-info\"> <b>Комментарий студента:</b>  Спасибо, дополнила мысль </div>"
   ]
  },
  {
   "cell_type": "markdown",
   "id": "5fd41c19",
   "metadata": {},
   "source": [
    "<div class=\"alert alert-success\">\n",
    "<b>Комментарий ревьюера:</b>☀️+</div>\n"
   ]
  },
  {
   "cell_type": "markdown",
   "id": "fb228bd2",
   "metadata": {},
   "source": [
    "__Вывод:__\n",
    "\n",
    "Первую неделю игры пользователи предпочитали только сооружать новые постройки. Во второй половине исследуемого периода совокупная активность игроков снижалась. К выполнению проекта игроки начали приступать только с 8го мая, но в незначительном количестве - на графике это явным образом видно не ранее 10го мая.\n",
    "\n",
    "Наибольшее число событий относится на постройку сооружений  - за 32 дня пользователи построили 127 956 сооружений (включая проекты). Между тем, в день каждый из пользователей проходил в среднем только одно событие.\n",
    "\n",
    "В первые дни пользования игрой игроки в основном выбирали `assembly_shop`, затем популярность начали набирать `spaceport` и `research_center`."
   ]
  },
  {
   "cell_type": "markdown",
   "id": "7f6d2385",
   "metadata": {},
   "source": [
    "## Анализ влияния событий на совершение целевого события"
   ]
  },
  {
   "cell_type": "markdown",
   "id": "48712a5f",
   "metadata": {},
   "source": [
    "### Сформируем профили пользователей, рассчитаем длительность прохождения уровней и способ прохождения."
   ]
  },
  {
   "cell_type": "markdown",
   "id": "498f6b07",
   "metadata": {},
   "source": [
    "Для начала для каждого игрока определим общее количество пройденных этапов и событий, а также статус прохождения/непрохождения уровня.\n",
    "\n",
    "Для тех игроков, кто прошел уровень победой над соперником, установим статус `pvp` - `player vs player`, а тем, кто прошел уровень выполнением проекта: `pve` - `player vs environment`."
   ]
  },
  {
   "cell_type": "markdown",
   "id": "f35e5925",
   "metadata": {},
   "source": [
    "<div class=\"alert alert-warning\">\n",
    "<b>Комментарий ревьюера v2.0:</b>☀️я думала, что pve - player vs event, но так тоже можно расшифровать ))</div>"
   ]
  },
  {
   "cell_type": "markdown",
   "id": "4b99eb44",
   "metadata": {},
   "source": [
    "<div class=\"alert alert-info\"> <b>Комментарий студента:</b>  👍 Гугл сказал про окружение, и я не стала спорить) </div>"
   ]
  },
  {
   "cell_type": "code",
   "execution_count": 28,
   "id": "9c716a74",
   "metadata": {},
   "outputs": [
    {
     "data": {
      "text/html": [
       "<div>\n",
       "<style scoped>\n",
       "    .dataframe tbody tr th:only-of-type {\n",
       "        vertical-align: middle;\n",
       "    }\n",
       "\n",
       "    .dataframe tbody tr th {\n",
       "        vertical-align: top;\n",
       "    }\n",
       "\n",
       "    .dataframe thead th {\n",
       "        text-align: right;\n",
       "    }\n",
       "</style>\n",
       "<table border=\"1\" class=\"dataframe\">\n",
       "  <thead>\n",
       "    <tr style=\"text-align: right;\">\n",
       "      <th>event</th>\n",
       "      <th>building</th>\n",
       "      <th>finished_stage_1</th>\n",
       "      <th>project</th>\n",
       "      <th>finish</th>\n",
       "    </tr>\n",
       "    <tr>\n",
       "      <th>user_id</th>\n",
       "      <th></th>\n",
       "      <th></th>\n",
       "      <th></th>\n",
       "      <th></th>\n",
       "    </tr>\n",
       "  </thead>\n",
       "  <tbody>\n",
       "    <tr>\n",
       "      <th>0001f83c-c6ac-4621-b7f0-8a28b283ac30</th>\n",
       "      <td>13</td>\n",
       "      <td>0</td>\n",
       "      <td>0</td>\n",
       "      <td>not finished</td>\n",
       "    </tr>\n",
       "    <tr>\n",
       "      <th>00151b4f-ba38-44a8-a650-d7cf130a0105</th>\n",
       "      <td>9</td>\n",
       "      <td>0</td>\n",
       "      <td>0</td>\n",
       "      <td>not finished</td>\n",
       "    </tr>\n",
       "    <tr>\n",
       "      <th>001aaea6-3d14-43f1-8ca8-7f48820f17aa</th>\n",
       "      <td>4</td>\n",
       "      <td>0</td>\n",
       "      <td>0</td>\n",
       "      <td>not finished</td>\n",
       "    </tr>\n",
       "    <tr>\n",
       "      <th>001d39dc-366c-4021-9604-6a3b9ff01e25</th>\n",
       "      <td>8</td>\n",
       "      <td>1</td>\n",
       "      <td>0</td>\n",
       "      <td>pvp</td>\n",
       "    </tr>\n",
       "    <tr>\n",
       "      <th>002f508f-67b6-479f-814b-b05f00d4e995</th>\n",
       "      <td>12</td>\n",
       "      <td>0</td>\n",
       "      <td>0</td>\n",
       "      <td>not finished</td>\n",
       "    </tr>\n",
       "  </tbody>\n",
       "</table>\n",
       "</div>"
      ],
      "text/plain": [
       "event                                 building  finished_stage_1  project  \\\n",
       "user_id                                                                     \n",
       "0001f83c-c6ac-4621-b7f0-8a28b283ac30        13                 0        0   \n",
       "00151b4f-ba38-44a8-a650-d7cf130a0105         9                 0        0   \n",
       "001aaea6-3d14-43f1-8ca8-7f48820f17aa         4                 0        0   \n",
       "001d39dc-366c-4021-9604-6a3b9ff01e25         8                 1        0   \n",
       "002f508f-67b6-479f-814b-b05f00d4e995        12                 0        0   \n",
       "\n",
       "event                                       finish  \n",
       "user_id                                             \n",
       "0001f83c-c6ac-4621-b7f0-8a28b283ac30  not finished  \n",
       "00151b4f-ba38-44a8-a650-d7cf130a0105  not finished  \n",
       "001aaea6-3d14-43f1-8ca8-7f48820f17aa  not finished  \n",
       "001d39dc-366c-4021-9604-6a3b9ff01e25           pvp  \n",
       "002f508f-67b6-479f-814b-b05f00d4e995  not finished  "
      ]
     },
     "execution_count": 28,
     "metadata": {},
     "output_type": "execute_result"
    }
   ],
   "source": [
    "actions_count = game_actions.pivot_table(index='user_id', \n",
    "                             columns = 'event', \n",
    "                             values = 'event_datetime', \n",
    "                             aggfunc='nunique',  \n",
    "                             fill_value=0)\n",
    "actions_count['finish'] = np.nan\n",
    "actions_count.loc[actions_count['project']==1, \n",
    "                  'finish'] = actions_count.loc[actions_count['project']==1, \n",
    "                                                               'finish'].fillna('pve')\n",
    "actions_count.loc[actions_count['finished_stage_1']==1, \n",
    "                  'finish'] = actions_count.loc[actions_count['finished_stage_1']==1, \n",
    "                                                               'finish'].fillna('pvp')\n",
    "actions_count['finish'] = actions_count['finish'].fillna('not finished')\n",
    "actions_count.head(5)"
   ]
  },
  {
   "cell_type": "code",
   "execution_count": 29,
   "id": "fc5b23a1",
   "metadata": {
    "scrolled": false
   },
   "outputs": [
    {
     "data": {
      "text/html": [
       "<div>\n",
       "<style scoped>\n",
       "    .dataframe tbody tr th:only-of-type {\n",
       "        vertical-align: middle;\n",
       "    }\n",
       "\n",
       "    .dataframe tbody tr th {\n",
       "        vertical-align: top;\n",
       "    }\n",
       "\n",
       "    .dataframe thead th {\n",
       "        text-align: right;\n",
       "    }\n",
       "</style>\n",
       "<table border=\"1\" class=\"dataframe\">\n",
       "  <thead>\n",
       "    <tr style=\"text-align: right;\">\n",
       "      <th></th>\n",
       "      <th>event_datetime</th>\n",
       "      <th>event</th>\n",
       "      <th>building_type</th>\n",
       "      <th>user_id</th>\n",
       "      <th>project_type</th>\n",
       "      <th>dt</th>\n",
       "      <th>source</th>\n",
       "      <th>finish</th>\n",
       "    </tr>\n",
       "  </thead>\n",
       "  <tbody>\n",
       "    <tr>\n",
       "      <th>28296</th>\n",
       "      <td>2020-05-04 11:08:56</td>\n",
       "      <td>building</td>\n",
       "      <td>assembly_shop</td>\n",
       "      <td>6ec52429-001d-4d16-ae1a-7568284ccf23</td>\n",
       "      <td>NaN</td>\n",
       "      <td>2020-05-04</td>\n",
       "      <td>yandex_direct</td>\n",
       "      <td>not finished</td>\n",
       "    </tr>\n",
       "    <tr>\n",
       "      <th>2781</th>\n",
       "      <td>2020-05-26 18:34:18</td>\n",
       "      <td>building</td>\n",
       "      <td>spaceport</td>\n",
       "      <td>1618dfc9-0b6d-4295-a6eb-86edd059e91b</td>\n",
       "      <td>NaN</td>\n",
       "      <td>2020-05-26</td>\n",
       "      <td>youtube_channel_reklama</td>\n",
       "      <td>not finished</td>\n",
       "    </tr>\n",
       "    <tr>\n",
       "      <th>111758</th>\n",
       "      <td>2020-05-08 17:32:05</td>\n",
       "      <td>building</td>\n",
       "      <td>assembly_shop</td>\n",
       "      <td>eb6f007f-deea-41d1-9cad-fa65b1e1faf6</td>\n",
       "      <td>NaN</td>\n",
       "      <td>2020-05-08</td>\n",
       "      <td>yandex_direct</td>\n",
       "      <td>pve</td>\n",
       "    </tr>\n",
       "  </tbody>\n",
       "</table>\n",
       "</div>"
      ],
      "text/plain": [
       "            event_datetime     event  building_type  \\\n",
       "28296  2020-05-04 11:08:56  building  assembly_shop   \n",
       "2781   2020-05-26 18:34:18  building      spaceport   \n",
       "111758 2020-05-08 17:32:05  building  assembly_shop   \n",
       "\n",
       "                                     user_id project_type          dt  \\\n",
       "28296   6ec52429-001d-4d16-ae1a-7568284ccf23          NaN  2020-05-04   \n",
       "2781    1618dfc9-0b6d-4295-a6eb-86edd059e91b          NaN  2020-05-26   \n",
       "111758  eb6f007f-deea-41d1-9cad-fa65b1e1faf6          NaN  2020-05-08   \n",
       "\n",
       "                         source        finish  \n",
       "28296             yandex_direct  not finished  \n",
       "2781    youtube_channel_reklama  not finished  \n",
       "111758            yandex_direct           pve  "
      ]
     },
     "execution_count": 29,
     "metadata": {},
     "output_type": "execute_result"
    }
   ],
   "source": [
    "game_actions = game_actions.merge(actions_count['finish'], on = 'user_id', how='left')\n",
    "game_actions.sample(3)"
   ]
  },
  {
   "cell_type": "markdown",
   "id": "4042fdf7",
   "metadata": {},
   "source": [
    "Определим для каждого пользователя первую и последнюю дату активности, а также длительность прохождения уровня."
   ]
  },
  {
   "cell_type": "code",
   "execution_count": 30,
   "id": "4355e798",
   "metadata": {
    "scrolled": true
   },
   "outputs": [
    {
     "data": {
      "text/html": [
       "<div>\n",
       "<style scoped>\n",
       "    .dataframe tbody tr th:only-of-type {\n",
       "        vertical-align: middle;\n",
       "    }\n",
       "\n",
       "    .dataframe tbody tr th {\n",
       "        vertical-align: top;\n",
       "    }\n",
       "\n",
       "    .dataframe thead th {\n",
       "        text-align: right;\n",
       "    }\n",
       "</style>\n",
       "<table border=\"1\" class=\"dataframe\">\n",
       "  <thead>\n",
       "    <tr style=\"text-align: right;\">\n",
       "      <th></th>\n",
       "      <th>event_datetime</th>\n",
       "      <th>event</th>\n",
       "      <th>building_type</th>\n",
       "      <th>user_id</th>\n",
       "      <th>project_type</th>\n",
       "      <th>dt</th>\n",
       "      <th>source</th>\n",
       "      <th>finish</th>\n",
       "      <th>first_dt</th>\n",
       "      <th>last_dt</th>\n",
       "      <th>duration</th>\n",
       "    </tr>\n",
       "  </thead>\n",
       "  <tbody>\n",
       "    <tr>\n",
       "      <th>0</th>\n",
       "      <td>2020-05-04 00:00:01</td>\n",
       "      <td>building</td>\n",
       "      <td>assembly_shop</td>\n",
       "      <td>55e92310-cb8e-4754-b622-597e124b03de</td>\n",
       "      <td>NaN</td>\n",
       "      <td>2020-05-04</td>\n",
       "      <td>youtube_channel_reklama</td>\n",
       "      <td>not finished</td>\n",
       "      <td>2020-05-04</td>\n",
       "      <td>2020-05-10</td>\n",
       "      <td>6</td>\n",
       "    </tr>\n",
       "    <tr>\n",
       "      <th>1</th>\n",
       "      <td>2020-05-05 05:20:15</td>\n",
       "      <td>building</td>\n",
       "      <td>assembly_shop</td>\n",
       "      <td>55e92310-cb8e-4754-b622-597e124b03de</td>\n",
       "      <td>NaN</td>\n",
       "      <td>2020-05-05</td>\n",
       "      <td>youtube_channel_reklama</td>\n",
       "      <td>not finished</td>\n",
       "      <td>2020-05-04</td>\n",
       "      <td>2020-05-10</td>\n",
       "      <td>6</td>\n",
       "    </tr>\n",
       "    <tr>\n",
       "      <th>2</th>\n",
       "      <td>2020-05-05 19:24:02</td>\n",
       "      <td>building</td>\n",
       "      <td>assembly_shop</td>\n",
       "      <td>55e92310-cb8e-4754-b622-597e124b03de</td>\n",
       "      <td>NaN</td>\n",
       "      <td>2020-05-05</td>\n",
       "      <td>youtube_channel_reklama</td>\n",
       "      <td>not finished</td>\n",
       "      <td>2020-05-04</td>\n",
       "      <td>2020-05-10</td>\n",
       "      <td>6</td>\n",
       "    </tr>\n",
       "  </tbody>\n",
       "</table>\n",
       "</div>"
      ],
      "text/plain": [
       "       event_datetime     event  building_type  \\\n",
       "0 2020-05-04 00:00:01  building  assembly_shop   \n",
       "1 2020-05-05 05:20:15  building  assembly_shop   \n",
       "2 2020-05-05 19:24:02  building  assembly_shop   \n",
       "\n",
       "                                user_id project_type          dt  \\\n",
       "0  55e92310-cb8e-4754-b622-597e124b03de          NaN  2020-05-04   \n",
       "1  55e92310-cb8e-4754-b622-597e124b03de          NaN  2020-05-05   \n",
       "2  55e92310-cb8e-4754-b622-597e124b03de          NaN  2020-05-05   \n",
       "\n",
       "                    source        finish    first_dt     last_dt  duration  \n",
       "0  youtube_channel_reklama  not finished  2020-05-04  2020-05-10         6  \n",
       "1  youtube_channel_reklama  not finished  2020-05-04  2020-05-10         6  \n",
       "2  youtube_channel_reklama  not finished  2020-05-04  2020-05-10         6  "
      ]
     },
     "execution_count": 30,
     "metadata": {},
     "output_type": "execute_result"
    }
   ],
   "source": [
    "duration = game_actions.pivot_table(index ='user_id', values = 'dt', aggfunc = ['first', 'last']).reset_index()\n",
    "duration.columns = ['user_id', 'first_dt', 'last_dt']\n",
    "duration['duration'] = (duration['last_dt']-duration['first_dt']).dt.days\n",
    "game_actions = game_actions.merge(duration, on = 'user_id', how='left')\n",
    "game_actions.head(3)"
   ]
  },
  {
   "cell_type": "markdown",
   "id": "0557b9f4",
   "metadata": {},
   "source": [
    "Сформируем профили пользователей:"
   ]
  },
  {
   "cell_type": "code",
   "execution_count": 31,
   "id": "44144581",
   "metadata": {},
   "outputs": [],
   "source": [
    "profiles = (\n",
    "    game_actions.sort_values(by=['dt', 'user_id'])\n",
    "    .groupby('user_id')\n",
    "    .agg(\n",
    "        {\n",
    "            'first_dt': 'first',\n",
    "            'last_dt':'first',\n",
    "            'duration':'first',\n",
    "            'source': 'first',\n",
    "            'event': 'count',\n",
    "            'building_type': 'count',\n",
    "            'finish':'max'\n",
    "            }\n",
    "        )\n",
    "        .rename(columns={'first_dt': 'first_dt',\n",
    "            'last_dt':'last_dt',\n",
    "            'duration':'duration',             \n",
    "            'source': 'source',\n",
    "            'event': 'event_count',\n",
    "            'building_type': 'building_count',\n",
    "            'finish':'finish'})\n",
    "        .reset_index()\n",
    "    )"
   ]
  },
  {
   "cell_type": "markdown",
   "id": "b151a626",
   "metadata": {},
   "source": [
    "Добавим столбец `result`, содержащий общие сведения о прохождении/непрохождении 1-го уровня вне зависимости от способа."
   ]
  },
  {
   "cell_type": "code",
   "execution_count": 32,
   "id": "26aeec43",
   "metadata": {
    "scrolled": true
   },
   "outputs": [
    {
     "data": {
      "text/html": [
       "<div>\n",
       "<style scoped>\n",
       "    .dataframe tbody tr th:only-of-type {\n",
       "        vertical-align: middle;\n",
       "    }\n",
       "\n",
       "    .dataframe tbody tr th {\n",
       "        vertical-align: top;\n",
       "    }\n",
       "\n",
       "    .dataframe thead th {\n",
       "        text-align: right;\n",
       "    }\n",
       "</style>\n",
       "<table border=\"1\" class=\"dataframe\">\n",
       "  <thead>\n",
       "    <tr style=\"text-align: right;\">\n",
       "      <th></th>\n",
       "      <th>user_id</th>\n",
       "      <th>first_dt</th>\n",
       "      <th>last_dt</th>\n",
       "      <th>duration</th>\n",
       "      <th>source</th>\n",
       "      <th>event_count</th>\n",
       "      <th>building_count</th>\n",
       "      <th>finish</th>\n",
       "      <th>result</th>\n",
       "    </tr>\n",
       "  </thead>\n",
       "  <tbody>\n",
       "    <tr>\n",
       "      <th>0</th>\n",
       "      <td>0001f83c-c6ac-4621-b7f0-8a28b283ac30</td>\n",
       "      <td>2020-05-06</td>\n",
       "      <td>2020-05-20</td>\n",
       "      <td>14</td>\n",
       "      <td>facebook_ads</td>\n",
       "      <td>13</td>\n",
       "      <td>13</td>\n",
       "      <td>not finished</td>\n",
       "      <td>0.0</td>\n",
       "    </tr>\n",
       "    <tr>\n",
       "      <th>1</th>\n",
       "      <td>00151b4f-ba38-44a8-a650-d7cf130a0105</td>\n",
       "      <td>2020-05-06</td>\n",
       "      <td>2020-05-18</td>\n",
       "      <td>12</td>\n",
       "      <td>yandex_direct</td>\n",
       "      <td>9</td>\n",
       "      <td>9</td>\n",
       "      <td>not finished</td>\n",
       "      <td>0.0</td>\n",
       "    </tr>\n",
       "    <tr>\n",
       "      <th>2</th>\n",
       "      <td>001aaea6-3d14-43f1-8ca8-7f48820f17aa</td>\n",
       "      <td>2020-05-05</td>\n",
       "      <td>2020-05-14</td>\n",
       "      <td>9</td>\n",
       "      <td>youtube_channel_reklama</td>\n",
       "      <td>4</td>\n",
       "      <td>4</td>\n",
       "      <td>not finished</td>\n",
       "      <td>0.0</td>\n",
       "    </tr>\n",
       "    <tr>\n",
       "      <th>3</th>\n",
       "      <td>001d39dc-366c-4021-9604-6a3b9ff01e25</td>\n",
       "      <td>2020-05-05</td>\n",
       "      <td>2020-05-12</td>\n",
       "      <td>7</td>\n",
       "      <td>instagram_new_adverts</td>\n",
       "      <td>9</td>\n",
       "      <td>8</td>\n",
       "      <td>pvp</td>\n",
       "      <td>1.0</td>\n",
       "    </tr>\n",
       "    <tr>\n",
       "      <th>4</th>\n",
       "      <td>002f508f-67b6-479f-814b-b05f00d4e995</td>\n",
       "      <td>2020-05-05</td>\n",
       "      <td>2020-05-22</td>\n",
       "      <td>17</td>\n",
       "      <td>facebook_ads</td>\n",
       "      <td>12</td>\n",
       "      <td>12</td>\n",
       "      <td>not finished</td>\n",
       "      <td>0.0</td>\n",
       "    </tr>\n",
       "  </tbody>\n",
       "</table>\n",
       "</div>"
      ],
      "text/plain": [
       "                                user_id    first_dt     last_dt  duration  \\\n",
       "0  0001f83c-c6ac-4621-b7f0-8a28b283ac30  2020-05-06  2020-05-20        14   \n",
       "1  00151b4f-ba38-44a8-a650-d7cf130a0105  2020-05-06  2020-05-18        12   \n",
       "2  001aaea6-3d14-43f1-8ca8-7f48820f17aa  2020-05-05  2020-05-14         9   \n",
       "3  001d39dc-366c-4021-9604-6a3b9ff01e25  2020-05-05  2020-05-12         7   \n",
       "4  002f508f-67b6-479f-814b-b05f00d4e995  2020-05-05  2020-05-22        17   \n",
       "\n",
       "                    source  event_count  building_count        finish  result  \n",
       "0             facebook_ads           13              13  not finished     0.0  \n",
       "1            yandex_direct            9               9  not finished     0.0  \n",
       "2  youtube_channel_reklama            4               4  not finished     0.0  \n",
       "3    instagram_new_adverts            9               8           pvp     1.0  \n",
       "4             facebook_ads           12              12  not finished     0.0  "
      ]
     },
     "execution_count": 32,
     "metadata": {},
     "output_type": "execute_result"
    }
   ],
   "source": [
    "profiles['result'] = np.nan\n",
    "profiles.loc[profiles['finish']== 'pvp', \n",
    "                  'result'] = profiles.loc[profiles['finish']== 'pvp', \n",
    "                  'result'].fillna(1)\n",
    "profiles.loc[profiles['finish']== 'pve', \n",
    "                  'result'] = profiles.loc[profiles['finish']== 'pve', \n",
    "                  'result'].fillna(1)\n",
    "profiles.loc[profiles['finish']=='not finished', \n",
    "                  'result'] = profiles.loc[profiles['finish']=='not finished', \n",
    "                  'result'].fillna(0)\n",
    "profiles.head()"
   ]
  },
  {
   "cell_type": "markdown",
   "id": "8f6aecb5",
   "metadata": {},
   "source": [
    "### Посмотрим за какое время в среднем игроки завершают первый уровень.  Посмотрим количество событий и построек, включая проект, а также длительность прохождения уровня для каждой категории игроков. "
   ]
  },
  {
   "cell_type": "code",
   "execution_count": 33,
   "id": "ace07de2",
   "metadata": {
    "scrolled": true
   },
   "outputs": [
    {
     "data": {
      "text/html": [
       "<div>\n",
       "<style scoped>\n",
       "    .dataframe tbody tr th:only-of-type {\n",
       "        vertical-align: middle;\n",
       "    }\n",
       "\n",
       "    .dataframe tbody tr th {\n",
       "        vertical-align: top;\n",
       "    }\n",
       "\n",
       "    .dataframe thead th {\n",
       "        text-align: right;\n",
       "    }\n",
       "</style>\n",
       "<table border=\"1\" class=\"dataframe\">\n",
       "  <thead>\n",
       "    <tr style=\"text-align: right;\">\n",
       "      <th></th>\n",
       "      <th>event</th>\n",
       "    </tr>\n",
       "  </thead>\n",
       "  <tbody>\n",
       "    <tr>\n",
       "      <th>count</th>\n",
       "      <td>13576.000000</td>\n",
       "    </tr>\n",
       "    <tr>\n",
       "      <th>mean</th>\n",
       "      <td>9.991087</td>\n",
       "    </tr>\n",
       "    <tr>\n",
       "      <th>std</th>\n",
       "      <td>4.146133</td>\n",
       "    </tr>\n",
       "    <tr>\n",
       "      <th>min</th>\n",
       "      <td>1.000000</td>\n",
       "    </tr>\n",
       "    <tr>\n",
       "      <th>25%</th>\n",
       "      <td>6.000000</td>\n",
       "    </tr>\n",
       "    <tr>\n",
       "      <th>50%</th>\n",
       "      <td>10.000000</td>\n",
       "    </tr>\n",
       "    <tr>\n",
       "      <th>75%</th>\n",
       "      <td>13.000000</td>\n",
       "    </tr>\n",
       "    <tr>\n",
       "      <th>max</th>\n",
       "      <td>22.000000</td>\n",
       "    </tr>\n",
       "  </tbody>\n",
       "</table>\n",
       "</div>"
      ],
      "text/plain": [
       "              event\n",
       "count  13576.000000\n",
       "mean       9.991087\n",
       "std        4.146133\n",
       "min        1.000000\n",
       "25%        6.000000\n",
       "50%       10.000000\n",
       "75%       13.000000\n",
       "max       22.000000"
      ]
     },
     "execution_count": 33,
     "metadata": {},
     "output_type": "execute_result"
    }
   ],
   "source": [
    "user_events = game_actions.groupby('user_id').agg({'event':'count'}).sort_values(by='event', ascending = False)\n",
    "user_events.describe()"
   ]
  },
  {
   "cell_type": "markdown",
   "id": "d1adbff1",
   "metadata": {},
   "source": [
    "В среднем каждый пользователь за месяц прошел от 5 до 13 событий.\n"
   ]
  },
  {
   "cell_type": "code",
   "execution_count": 34,
   "id": "62549cfc",
   "metadata": {},
   "outputs": [
    {
     "data": {
      "text/html": [
       "<div>\n",
       "<style scoped>\n",
       "    .dataframe tbody tr th:only-of-type {\n",
       "        vertical-align: middle;\n",
       "    }\n",
       "\n",
       "    .dataframe tbody tr th {\n",
       "        vertical-align: top;\n",
       "    }\n",
       "\n",
       "    .dataframe thead th {\n",
       "        text-align: right;\n",
       "    }\n",
       "</style>\n",
       "<table border=\"1\" class=\"dataframe\">\n",
       "  <thead>\n",
       "    <tr style=\"text-align: right;\">\n",
       "      <th></th>\n",
       "      <th>finish</th>\n",
       "      <th>duration_mean</th>\n",
       "      <th>duration_med</th>\n",
       "      <th>events_mean</th>\n",
       "      <th>events_median</th>\n",
       "      <th>buildings_mean</th>\n",
       "      <th>buildings_median</th>\n",
       "    </tr>\n",
       "  </thead>\n",
       "  <tbody>\n",
       "    <tr>\n",
       "      <th>0</th>\n",
       "      <td>pve</td>\n",
       "      <td>13.396570</td>\n",
       "      <td>13</td>\n",
       "      <td>14.647910</td>\n",
       "      <td>14</td>\n",
       "      <td>13.647910</td>\n",
       "      <td>13</td>\n",
       "    </tr>\n",
       "    <tr>\n",
       "      <th>1</th>\n",
       "      <td>pvp</td>\n",
       "      <td>11.058466</td>\n",
       "      <td>11</td>\n",
       "      <td>10.411541</td>\n",
       "      <td>11</td>\n",
       "      <td>9.411541</td>\n",
       "      <td>10</td>\n",
       "    </tr>\n",
       "    <tr>\n",
       "      <th>2</th>\n",
       "      <td>not finished</td>\n",
       "      <td>9.746230</td>\n",
       "      <td>10</td>\n",
       "      <td>8.657043</td>\n",
       "      <td>8</td>\n",
       "      <td>8.657043</td>\n",
       "      <td>8</td>\n",
       "    </tr>\n",
       "  </tbody>\n",
       "</table>\n",
       "</div>"
      ],
      "text/plain": [
       "         finish  duration_mean  duration_med  events_mean  events_median  \\\n",
       "0           pve      13.396570            13    14.647910             14   \n",
       "1           pvp      11.058466            11    10.411541             11   \n",
       "2  not finished       9.746230            10     8.657043              8   \n",
       "\n",
       "   buildings_mean  buildings_median  \n",
       "0       13.647910                13  \n",
       "1        9.411541                10  \n",
       "2        8.657043                 8  "
      ]
     },
     "execution_count": 34,
     "metadata": {},
     "output_type": "execute_result"
    }
   ],
   "source": [
    "new = profiles.groupby('finish').agg({'duration':['mean', 'median'], \n",
    "                                'event_count':['mean', 'median'],\n",
    "                                'building_count':['mean', 'median']})\n",
    "\n",
    "new.columns = ['duration_mean', 'duration_med','events_mean',\n",
    "                    'events_median', 'buildings_mean', 'buildings_median']\n",
    "\n",
    "new.sort_values(by='duration_mean', ascending=False).reset_index()"
   ]
  },
  {
   "cell_type": "markdown",
   "id": "a703f565",
   "metadata": {},
   "source": [
    "Игроки, выбравшие завершение уровня проектом в среднем проходят уровень дольше, однако также строят больше сооружений. \n",
    "\n",
    "Построим график распределения, чтобы визуализировать различия между категориями в вышеуказанных параметрах."
   ]
  },
  {
   "cell_type": "code",
   "execution_count": 35,
   "id": "fa2f2302",
   "metadata": {},
   "outputs": [
    {
     "data": {
      "image/png": "[encoded data removed]",
      "text/plain": [
       "<Figure size 864x216 with 1 Axes>"
      ]
     },
     "metadata": {},
     "output_type": "display_data"
    },
    {
     "data": {
      "image/png": "[encoded data removed]",
      "text/plain": [
       "<Figure size 864x216 with 1 Axes>"
      ]
     },
     "metadata": {},
     "output_type": "display_data"
    },
    {
     "data": {
      "image/png": "[encoded data removed]",
      "text/plain": [
       "<Figure size 864x216 with 1 Axes>"
      ]
     },
     "metadata": {},
     "output_type": "display_data"
    }
   ],
   "source": [
    "for column in ['duration', 'event_count', 'building_count']: \n",
    "    title = {'duration':'Длительность прохождения, дн.', \n",
    "         'event_count': 'Количество событий', \n",
    "         'building_count':'Количество построек'}\n",
    "    g = sns.catplot(y='finish', x=column, kind=\"box\", data= profiles, orient='h', palette = 'viridis_r')\n",
    "    g.fig.set_figwidth(12)\n",
    "    g.fig.set_figheight(3)\n",
    "    g.set_axis_labels(title[column], \"Категории\");"
   ]
  },
  {
   "cell_type": "markdown",
   "id": "cf4e86fc",
   "metadata": {},
   "source": [
    "Выводы из графика в целом совпадают с нашими выводами из расчетов. По количеству событий, совершенных за месяц, длительности прохождения и количеству построек игроки `pve` значительно опережают две другие категории.\n",
    "\n",
    "Однако игроков `pvp` больше по количеству, ввиду чего и разброс значений для них значительно шире. \n",
    "\n",
    "Определим соотношение количества игроков каждой категории и суммарное количество построек у них."
   ]
  },
  {
   "cell_type": "markdown",
   "id": "5ca94439",
   "metadata": {},
   "source": [
    "### Определим количество игроков, завершивших уровень с помощью завершения проекта или победы над соперником."
   ]
  },
  {
   "cell_type": "code",
   "execution_count": 36,
   "id": "4bb85a9e",
   "metadata": {},
   "outputs": [
    {
     "data": {
      "text/html": [
       "<div>\n",
       "<style scoped>\n",
       "    .dataframe tbody tr th:only-of-type {\n",
       "        vertical-align: middle;\n",
       "    }\n",
       "\n",
       "    .dataframe tbody tr th {\n",
       "        vertical-align: top;\n",
       "    }\n",
       "\n",
       "    .dataframe thead th {\n",
       "        text-align: right;\n",
       "    }\n",
       "</style>\n",
       "<table border=\"1\" class=\"dataframe\">\n",
       "  <thead>\n",
       "    <tr style=\"text-align: right;\">\n",
       "      <th></th>\n",
       "      <th>finish</th>\n",
       "      <th>user_id</th>\n",
       "    </tr>\n",
       "  </thead>\n",
       "  <tbody>\n",
       "    <tr>\n",
       "      <th>0</th>\n",
       "      <td>pve</td>\n",
       "      <td>1866</td>\n",
       "    </tr>\n",
       "    <tr>\n",
       "      <th>1</th>\n",
       "      <td>pvp</td>\n",
       "      <td>3951</td>\n",
       "    </tr>\n",
       "    <tr>\n",
       "      <th>2</th>\n",
       "      <td>not finished</td>\n",
       "      <td>7759</td>\n",
       "    </tr>\n",
       "  </tbody>\n",
       "</table>\n",
       "</div>"
      ],
      "text/plain": [
       "         finish  user_id\n",
       "0           pve     1866\n",
       "1           pvp     3951\n",
       "2  not finished     7759"
      ]
     },
     "execution_count": 36,
     "metadata": {},
     "output_type": "execute_result"
    }
   ],
   "source": [
    "categories = profiles.groupby('finish').agg({'user_id':'count'}).sort_values('user_id').reset_index()\n",
    "categories"
   ]
  },
  {
   "cell_type": "code",
   "execution_count": 37,
   "id": "7937894b",
   "metadata": {
    "scrolled": false
   },
   "outputs": [
    {
     "data": {
      "image/png": "[encoded data removed]",
      "text/plain": [
       "<Figure size 504x504 with 1 Axes>"
      ]
     },
     "metadata": {},
     "output_type": "display_data"
    }
   ],
   "source": [
    "colors = sns.color_palette('Blues_r')\n",
    "plt.figure(figsize=(7, 7))\n",
    "plt.pie(data=categories.sort_values(by='user_id', ascending = False), \n",
    "        x='user_id', labels = 'finish', colors = colors, autopct='%.0f%%')\n",
    "plt.title('Доли игроков')\n",
    "plt.ylabel(None) \n",
    "plt.show()"
   ]
  },
  {
   "cell_type": "markdown",
   "id": "739f8f7f",
   "metadata": {},
   "source": [
    "Большинство пользователей  - больше половины - все еще на прошли 1-й уровень. Построим график соотношения игроков `pve` и `pvp`."
   ]
  },
  {
   "cell_type": "code",
   "execution_count": 38,
   "id": "cd8df32e",
   "metadata": {
    "scrolled": false
   },
   "outputs": [
    {
     "data": {
      "image/png": "[encoded data removed]",
      "text/plain": [
       "<Figure size 504x504 with 1 Axes>"
      ]
     },
     "metadata": {},
     "output_type": "display_data"
    }
   ],
   "source": [
    "finished = profiles[profiles['finish']!='not finished'].groupby('finish').agg({'building_count':'sum'}).sort_values('building_count').reset_index()\n",
    "colors = sns.color_palette('Blues_r')\n",
    "plt.figure(figsize=(7, 7))\n",
    "plt.pie(data=finished.sort_values(by='building_count', ascending = False), x='building_count', labels = 'finish', colors = colors, autopct='%.0f%%')\n",
    "plt.title('Доли игроков')\n",
    "plt.ylabel(None) \n",
    "plt.show()"
   ]
  },
  {
   "cell_type": "markdown",
   "id": "5acb2855",
   "metadata": {},
   "source": [
    "Из тех, кто прошел 1-й уровень, больше половины игроков выбрали стратегию победы над соперником. Их количество может повлиять на суммарное соотношение количества построек по категориям."
   ]
  },
  {
   "cell_type": "markdown",
   "id": "c6526c70",
   "metadata": {},
   "source": [
    "Общее количество построек для игроков `pvp` превысило количество сооружений игроков `pve`. \n",
    "\n",
    "Следовательно, несмотря на то, что среднее число построек у каждого из игроков `pvp` меньше, чем у игроков `pve`, ввиду превышения количества `pvp` над количеством `pve`, категория `pvp` переходила на страницу с предполагаемой рекламой чаще, чем их оппоненты."
   ]
  },
  {
   "cell_type": "markdown",
   "id": "63525af1",
   "metadata": {},
   "source": [
    "### Определим  количество построек и построим гистрограмму распределения построенных объектов для всех игроков, прошедших уровень, и для продолжающих игроков."
   ]
  },
  {
   "cell_type": "code",
   "execution_count": 39,
   "id": "12a521ef",
   "metadata": {
    "scrolled": true
   },
   "outputs": [
    {
     "data": {
      "image/png": "[encoded data removed]",
      "text/plain": [
       "<Figure size 1152x288 with 2 Axes>"
      ]
     },
     "metadata": {},
     "output_type": "display_data"
    }
   ],
   "source": [
    "fig, ax = plt.subplots(figsize = (16, 4)) \n",
    "sns.boxplot(x = 'result', y = 'building_count', data = profiles, ax = plt.subplot(1,2,1), palette = 'viridis') \n",
    "plt.xlabel('')\n",
    "plt.ylabel('')\n",
    "plt.xticks(np.arange(2), ('Не прошли уровень', 'Прошли уровень'))\n",
    "\n",
    "a = profiles.query('result == 1')\n",
    "b = profiles.query('result == 0') \n",
    "\n",
    "sns.histplot(data=profiles, x= 'building_count', hue='result', ax = plt.subplot(1,2,2), palette = 'viridis')\n",
    "plt.xlabel('')\n",
    "plt.ylabel('')\n",
    "\n",
    "fig.suptitle('Количество построек')\n",
    "plt.show()"
   ]
  },
  {
   "cell_type": "markdown",
   "id": "7610900b",
   "metadata": {},
   "source": [
    "Ожидаемо, наибольшее количество объектов за период в среднем успели построиить игроки, прошедшие уровень.  Из распределения видно, что среди игроков, не прошедших уровень, большинство игроков завершили строительство только 6 объектов. У тех, кто прошел уровень, пик приходится на 12 объектов.  "
   ]
  },
  {
   "cell_type": "markdown",
   "id": "60f5e1af",
   "metadata": {},
   "source": [
    "### Посмотрим, через какие каналы привлечены игроки. Посмотрим, есть ли типичные поведенческие паттерны в прохождении уровня у пользователя из разных источников.\n"
   ]
  },
  {
   "cell_type": "code",
   "execution_count": 40,
   "id": "6d3095c6",
   "metadata": {},
   "outputs": [
    {
     "data": {
      "text/html": [
       "<div>\n",
       "<style scoped>\n",
       "    .dataframe tbody tr th:only-of-type {\n",
       "        vertical-align: middle;\n",
       "    }\n",
       "\n",
       "    .dataframe tbody tr th {\n",
       "        vertical-align: top;\n",
       "    }\n",
       "\n",
       "    .dataframe thead th {\n",
       "        text-align: right;\n",
       "    }\n",
       "</style>\n",
       "<table border=\"1\" class=\"dataframe\">\n",
       "  <thead>\n",
       "    <tr style=\"text-align: right;\">\n",
       "      <th></th>\n",
       "      <th>source</th>\n",
       "      <th>user_id</th>\n",
       "    </tr>\n",
       "  </thead>\n",
       "  <tbody>\n",
       "    <tr>\n",
       "      <th>0</th>\n",
       "      <td>yandex_direct</td>\n",
       "      <td>47694</td>\n",
       "    </tr>\n",
       "    <tr>\n",
       "      <th>1</th>\n",
       "      <td>instagram_new_adverts</td>\n",
       "      <td>33757</td>\n",
       "    </tr>\n",
       "    <tr>\n",
       "      <th>2</th>\n",
       "      <td>facebook_ads</td>\n",
       "      <td>27672</td>\n",
       "    </tr>\n",
       "    <tr>\n",
       "      <th>3</th>\n",
       "      <td>youtube_channel_reklama</td>\n",
       "      <td>26516</td>\n",
       "    </tr>\n",
       "  </tbody>\n",
       "</table>\n",
       "</div>"
      ],
      "text/plain": [
       "                    source  user_id\n",
       "0            yandex_direct    47694\n",
       "1    instagram_new_adverts    33757\n",
       "2             facebook_ads    27672\n",
       "3  youtube_channel_reklama    26516"
      ]
     },
     "execution_count": 40,
     "metadata": {},
     "output_type": "execute_result"
    }
   ],
   "source": [
    "sources = game_actions.groupby('source').agg({'user_id':'count'}).sort_values(by='user_id', ascending = False).reset_index()\n",
    "sources"
   ]
  },
  {
   "cell_type": "code",
   "execution_count": 41,
   "id": "f448c996",
   "metadata": {},
   "outputs": [
    {
     "data": {
      "image/png": "[encoded data removed]",
      "text/plain": [
       "<Figure size 504x504 with 1 Axes>"
      ]
     },
     "metadata": {},
     "output_type": "display_data"
    }
   ],
   "source": [
    "colors = sns.color_palette('Blues_r')\n",
    "plt.figure(figsize=(7, 7))\n",
    "plt.pie(data=sources, x='user_id', labels = 'source', colors = colors, autopct='%.0f%%')\n",
    "plt.title('Доля игроков в каждом из каналов привлечения')\n",
    "plt.ylabel(None) \n",
    "plt.show()"
   ]
  },
  {
   "cell_type": "markdown",
   "id": "bbec9d3d",
   "metadata": {
    "scrolled": false
   },
   "source": [
    "Большинство игроков привлечены через `yandex_direct`, менее всего привлечены из `youtube_channel_reklama`."
   ]
  },
  {
   "cell_type": "code",
   "execution_count": 42,
   "id": "cbf9acb5",
   "metadata": {
    "scrolled": false
   },
   "outputs": [
    {
     "data": {
      "image/png": "[encoded data removed]",
      "text/plain": [
       "<Figure size 1296x360 with 2 Axes>"
      ]
     },
     "metadata": {},
     "output_type": "display_data"
    }
   ],
   "source": [
    "fig, ax = plt.subplots(figsize = (18, 5)) \n",
    "game_actions.pivot_table(index='dt', \n",
    "                         columns='source',\n",
    "                         values='user_id',\n",
    "                         aggfunc='count').reset_index().plot(x='dt',\n",
    "                                                             grid=True, \n",
    "                                                             legend=True, \n",
    "                                                             ax = plt.subplot(1, 2, 1), rot = 30)\n",
    "plt.title('Динамика активности игроков по каналам')\n",
    "plt.xlabel(None)\n",
    "\n",
    "game_actions.pivot_table(index='dt', \n",
    "                         columns='source', \n",
    "                         values='building_type',\n",
    "                         aggfunc='count').reset_index().plot(x='dt',\n",
    "                                                             grid=True, \n",
    "                                                             legend=True, \n",
    "                                                             ax = plt.subplot(1, 2, 2),  rot = 30)\n",
    "plt.title('Динамика количества построек по каналам')\n",
    "plt.xlabel(None)\n",
    "plt.show()"
   ]
  },
  {
   "cell_type": "markdown",
   "id": "c34b9abe",
   "metadata": {},
   "source": [
    "График динамики активности игроков в разбивке по каналам и динамики количества построек в целом совпадают с общими тенденциями. По количеству активных пользователей между каналами сохранена последовательность от большего к меньшему в соответствии с долями каналов в общей массе пользователей.\n",
    "\n",
    "Из изложенного можно сделать вывод, что нельзя выделить какие-либо различия в динамике активности пользователей, привлеченных из разных источников. \n",
    "\n",
    "Построим график распределения, чтобы визуализировать различия между индивидуальными характеристиками пользователей разных каналов привлечения."
   ]
  },
  {
   "cell_type": "code",
   "execution_count": 43,
   "id": "bb0f6810",
   "metadata": {
    "scrolled": false
   },
   "outputs": [
    {
     "data": {
      "image/png": "[encoded data removed]",
      "text/plain": [
       "<Figure size 1152x216 with 1 Axes>"
      ]
     },
     "metadata": {},
     "output_type": "display_data"
    },
    {
     "data": {
      "image/png": "[encoded data removed]",
      "text/plain": [
       "<Figure size 1152x216 with 1 Axes>"
      ]
     },
     "metadata": {},
     "output_type": "display_data"
    },
    {
     "data": {
      "image/png": "[encoded data removed]",
      "text/plain": [
       "<Figure size 1152x216 with 1 Axes>"
      ]
     },
     "metadata": {},
     "output_type": "display_data"
    }
   ],
   "source": [
    "for column in ['duration', 'event_count', 'building_count']: \n",
    "    title = {'duration':'Длительность прохождения, дн.', \n",
    "         'event_count': 'Количество событий', \n",
    "         'building_count':'Количество построек'}\n",
    "    g = sns.catplot(y='source', x=column, kind=\"box\", data= profiles, orient='h', palette = 'viridis_r')\n",
    "    g.fig.set_figwidth(16)\n",
    "    g.fig.set_figheight(3)\n",
    "    g.set_axis_labels(title[column], \"Каналы привлечения\");"
   ]
  },
  {
   "cell_type": "markdown",
   "id": "72b76700",
   "metadata": {},
   "source": [
    "В среднем длительность прохождения уровня у разных каналов совпадает, однако игроки, пришедшие через `youtube_channel_reklama` склонны тратить меньше времени на 1-м уровне.\n",
    "\n",
    "В отношении количества построек на игрока следует отметить `yandex_direct` - несмотря на наибольшее количество привлеченных игроков из указанного канала, ширина распределения количества их построек меньше, чем у других каналов.\n",
    "\n",
    "Лидерами по числу построенных объектов на игрока являются `facebook_ads` и `instagram_new_adverts`, что однако нивелируется малым количеством привлеченных из указанных источников игроков."
   ]
  },
  {
   "cell_type": "markdown",
   "id": "9e98eb45",
   "metadata": {},
   "source": [
    "### Посчитаем CAC каждого игрока и суммарные затраты на рекламу за каждый день "
   ]
  },
  {
   "cell_type": "markdown",
   "id": "88543e8a",
   "metadata": {},
   "source": [
    "В таблице ad_costs сумма затрат отличается в каждом из дней и зависит от количества привлеченных пользователей.\n",
    "\n",
    "Определим количество пользователей в каждый из дней с 4 по 10 мая, присоединим полученные результаты к таблице  ad_costs и рассчитаем `CAC` для каждого из каналов."
   ]
  },
  {
   "cell_type": "code",
   "execution_count": 44,
   "id": "f582d524",
   "metadata": {
    "scrolled": false
   },
   "outputs": [
    {
     "data": {
      "text/html": [
       "<div>\n",
       "<style scoped>\n",
       "    .dataframe tbody tr th:only-of-type {\n",
       "        vertical-align: middle;\n",
       "    }\n",
       "\n",
       "    .dataframe tbody tr th {\n",
       "        vertical-align: top;\n",
       "    }\n",
       "\n",
       "    .dataframe thead th {\n",
       "        text-align: right;\n",
       "    }\n",
       "</style>\n",
       "<table border=\"1\" class=\"dataframe\">\n",
       "  <thead>\n",
       "    <tr style=\"text-align: right;\">\n",
       "      <th></th>\n",
       "      <th>source</th>\n",
       "      <th>first_dt</th>\n",
       "      <th>cost</th>\n",
       "      <th>user_id</th>\n",
       "      <th>cac</th>\n",
       "    </tr>\n",
       "  </thead>\n",
       "  <tbody>\n",
       "    <tr>\n",
       "      <th>0</th>\n",
       "      <td>facebook_ads</td>\n",
       "      <td>2020-05-04</td>\n",
       "      <td>935.882786</td>\n",
       "      <td>1184</td>\n",
       "      <td>0.79</td>\n",
       "    </tr>\n",
       "    <tr>\n",
       "      <th>1</th>\n",
       "      <td>facebook_ads</td>\n",
       "      <td>2020-05-05</td>\n",
       "      <td>548.354480</td>\n",
       "      <td>694</td>\n",
       "      <td>0.79</td>\n",
       "    </tr>\n",
       "    <tr>\n",
       "      <th>2</th>\n",
       "      <td>facebook_ads</td>\n",
       "      <td>2020-05-06</td>\n",
       "      <td>260.185754</td>\n",
       "      <td>345</td>\n",
       "      <td>0.75</td>\n",
       "    </tr>\n",
       "    <tr>\n",
       "      <th>3</th>\n",
       "      <td>facebook_ads</td>\n",
       "      <td>2020-05-07</td>\n",
       "      <td>177.982200</td>\n",
       "      <td>224</td>\n",
       "      <td>0.79</td>\n",
       "    </tr>\n",
       "    <tr>\n",
       "      <th>4</th>\n",
       "      <td>facebook_ads</td>\n",
       "      <td>2020-05-08</td>\n",
       "      <td>111.766796</td>\n",
       "      <td>139</td>\n",
       "      <td>0.80</td>\n",
       "    </tr>\n",
       "  </tbody>\n",
       "</table>\n",
       "</div>"
      ],
      "text/plain": [
       "         source    first_dt        cost  user_id   cac\n",
       "0  facebook_ads  2020-05-04  935.882786     1184  0.79\n",
       "1  facebook_ads  2020-05-05  548.354480      694  0.79\n",
       "2  facebook_ads  2020-05-06  260.185754      345  0.75\n",
       "3  facebook_ads  2020-05-07  177.982200      224  0.79\n",
       "4  facebook_ads  2020-05-08  111.766796      139  0.80"
      ]
     },
     "execution_count": 44,
     "metadata": {},
     "output_type": "execute_result"
    }
   ],
   "source": [
    "source_users_cnt = profiles.pivot_table(index=['first_dt','source'],values='user_id',aggfunc='count').reset_index()\n",
    "ad_costs = ad_costs.merge(source_users_cnt,on=['first_dt','source'],how='left')\n",
    "ad_costs['cac'] = round(ad_costs['cost'] / ad_costs['user_id'],2)\n",
    "ad_costs.head()"
   ]
  },
  {
   "cell_type": "markdown",
   "id": "5350f9fe",
   "metadata": {},
   "source": [
    "Средняя стоимость привлечения пользователя по каналам:"
   ]
  },
  {
   "cell_type": "code",
   "execution_count": 45,
   "id": "d86cbf48",
   "metadata": {},
   "outputs": [
    {
     "data": {
      "text/html": [
       "<div>\n",
       "<style scoped>\n",
       "    .dataframe tbody tr th:only-of-type {\n",
       "        vertical-align: middle;\n",
       "    }\n",
       "\n",
       "    .dataframe tbody tr th {\n",
       "        vertical-align: top;\n",
       "    }\n",
       "\n",
       "    .dataframe thead th {\n",
       "        text-align: right;\n",
       "    }\n",
       "</style>\n",
       "<table border=\"1\" class=\"dataframe\">\n",
       "  <thead>\n",
       "    <tr style=\"text-align: right;\">\n",
       "      <th></th>\n",
       "      <th>cac</th>\n",
       "    </tr>\n",
       "    <tr>\n",
       "      <th>source</th>\n",
       "      <th></th>\n",
       "    </tr>\n",
       "  </thead>\n",
       "  <tbody>\n",
       "    <tr>\n",
       "      <th>facebook_ads</th>\n",
       "      <td>0.774286</td>\n",
       "    </tr>\n",
       "    <tr>\n",
       "      <th>instagram_new_adverts</th>\n",
       "      <td>0.647143</td>\n",
       "    </tr>\n",
       "    <tr>\n",
       "      <th>yandex_direct</th>\n",
       "      <td>0.464286</td>\n",
       "    </tr>\n",
       "    <tr>\n",
       "      <th>youtube_channel_reklama</th>\n",
       "      <td>0.402857</td>\n",
       "    </tr>\n",
       "  </tbody>\n",
       "</table>\n",
       "</div>"
      ],
      "text/plain": [
       "                              cac\n",
       "source                           \n",
       "facebook_ads             0.774286\n",
       "instagram_new_adverts    0.647143\n",
       "yandex_direct            0.464286\n",
       "youtube_channel_reklama  0.402857"
      ]
     },
     "execution_count": 45,
     "metadata": {},
     "output_type": "execute_result"
    }
   ],
   "source": [
    "mean_cost = ad_costs.groupby('source').agg({'cac':'mean'})\n",
    "mean_cost"
   ]
  },
  {
   "cell_type": "markdown",
   "id": "6e7e2cba",
   "metadata": {},
   "source": [
    "Наиболее дорогим для привлечения одного игрока каналом является `facebook_ads`, самым дешевым источником трафика - `youtube_channel_reklama`. Вспомним, что при этом `facebook_ads` является третьим по счету каналом по числу привлеченных игроков, уступая `yandex_direct` и `instagram_new_adverts`.\n",
    "\n",
    "Добавим `CAC` в профили пользователей."
   ]
  },
  {
   "cell_type": "code",
   "execution_count": 46,
   "id": "ac143c4f",
   "metadata": {},
   "outputs": [],
   "source": [
    "profiles = profiles.merge(ad_costs.loc[:,['source', 'first_dt','cac']], on=['source', 'first_dt'],how='left')"
   ]
  },
  {
   "cell_type": "markdown",
   "id": "12e2ab9d",
   "metadata": {},
   "source": [
    "Построим график динамики затрат с разбивкой по каналам."
   ]
  },
  {
   "cell_type": "code",
   "execution_count": 47,
   "id": "1deee323",
   "metadata": {
    "scrolled": false
   },
   "outputs": [
    {
     "data": {
      "image/png": "[encoded data removed]",
      "text/plain": [
       "<Figure size 864x432 with 1 Axes>"
      ]
     },
     "metadata": {},
     "output_type": "display_data"
    }
   ],
   "source": [
    "profiles.pivot_table(index='first_dt', \n",
    "                     columns='source', \n",
    "                     values='cac',\n",
    "                     aggfunc='sum').reset_index().plot(x='first_dt',\n",
    "                                                       grid=True, \n",
    "                                                       legend=True, \n",
    "                                                       figsize=(12, 6), rot = 45)\n",
    "plt.title('Динамика затрат на игроков из каждого канала')\n",
    "plt.xlabel(None)\n",
    "plt.ylabel('Стоимость рекламы')\n",
    "plt.legend(title='Каналы') \n",
    "plt.show()"
   ]
  },
  {
   "cell_type": "markdown",
   "id": "7d3c5dc3",
   "metadata": {},
   "source": [
    "Из графика видно, что CAC к концу периода падает. При этом, несмотря на низкий средний показатель CAС, график `yandex_direct` не уступает по стоимости `facebook_ads` и `instagram_new_adverts`, снижаясь только к концу периода. Однако количество пользователей и построек среди пользователей, привлеченных через  yandex_direct, как мы уже выяснили, значительно выше оппонентов. "
   ]
  },
  {
   "cell_type": "markdown",
   "id": "491f4373",
   "metadata": {},
   "source": [
    "### Посчитаем возможные доходы от игровой активности при стоимости одного клика по рекламе - 7 центов (0.07)."
   ]
  },
  {
   "cell_type": "code",
   "execution_count": 48,
   "id": "b816f566",
   "metadata": {},
   "outputs": [
    {
     "data": {
      "text/html": [
       "<div>\n",
       "<style scoped>\n",
       "    .dataframe tbody tr th:only-of-type {\n",
       "        vertical-align: middle;\n",
       "    }\n",
       "\n",
       "    .dataframe tbody tr th {\n",
       "        vertical-align: top;\n",
       "    }\n",
       "\n",
       "    .dataframe thead th {\n",
       "        text-align: right;\n",
       "    }\n",
       "</style>\n",
       "<table border=\"1\" class=\"dataframe\">\n",
       "  <thead>\n",
       "    <tr style=\"text-align: right;\">\n",
       "      <th></th>\n",
       "      <th>first_dt</th>\n",
       "      <th>profit</th>\n",
       "      <th>cac</th>\n",
       "    </tr>\n",
       "  </thead>\n",
       "  <tbody>\n",
       "    <tr>\n",
       "      <th>0</th>\n",
       "      <td>2020-05-04</td>\n",
       "      <td>4308.92</td>\n",
       "      <td>3314.22</td>\n",
       "    </tr>\n",
       "    <tr>\n",
       "      <th>1</th>\n",
       "      <td>2020-05-05</td>\n",
       "      <td>2327.01</td>\n",
       "      <td>1863.99</td>\n",
       "    </tr>\n",
       "    <tr>\n",
       "      <th>2</th>\n",
       "      <td>2020-05-06</td>\n",
       "      <td>1163.96</td>\n",
       "      <td>1026.83</td>\n",
       "    </tr>\n",
       "    <tr>\n",
       "      <th>3</th>\n",
       "      <td>2020-05-07</td>\n",
       "      <td>631.19</td>\n",
       "      <td>619.46</td>\n",
       "    </tr>\n",
       "    <tr>\n",
       "      <th>4</th>\n",
       "      <td>2020-05-08</td>\n",
       "      <td>342.02</td>\n",
       "      <td>391.52</td>\n",
       "    </tr>\n",
       "    <tr>\n",
       "      <th>5</th>\n",
       "      <td>2020-05-09</td>\n",
       "      <td>202.37</td>\n",
       "      <td>243.08</td>\n",
       "    </tr>\n",
       "    <tr>\n",
       "      <th>6</th>\n",
       "      <td>2020-05-10</td>\n",
       "      <td>112.07</td>\n",
       "      <td>151.78</td>\n",
       "    </tr>\n",
       "  </tbody>\n",
       "</table>\n",
       "</div>"
      ],
      "text/plain": [
       "     first_dt   profit      cac\n",
       "0  2020-05-04  4308.92  3314.22\n",
       "1  2020-05-05  2327.01  1863.99\n",
       "2  2020-05-06  1163.96  1026.83\n",
       "3  2020-05-07   631.19   619.46\n",
       "4  2020-05-08   342.02   391.52\n",
       "5  2020-05-09   202.37   243.08\n",
       "6  2020-05-10   112.07   151.78"
      ]
     },
     "execution_count": 48,
     "metadata": {},
     "output_type": "execute_result"
    }
   ],
   "source": [
    "daily_profit = profiles.groupby('first_dt').agg({'building_count':'sum', 'cac':'sum'}).reset_index()\n",
    "daily_profit['building_count'] = daily_profit['building_count']*0.07\n",
    "daily_profit=daily_profit.rename(columns={'building_count':'profit'})\n",
    "daily_profit"
   ]
  },
  {
   "cell_type": "code",
   "execution_count": 49,
   "id": "4572c2a1",
   "metadata": {
    "scrolled": false
   },
   "outputs": [
    {
     "data": {
      "image/png": "[encoded data removed]",
      "text/plain": [
       "<Figure size 864x432 with 1 Axes>"
      ]
     },
     "metadata": {},
     "output_type": "display_data"
    }
   ],
   "source": [
    "daily_profit.plot(x='first_dt',grid=True, kind='bar', legend=True, figsize=(12, 6), cmap='Dark2', rot = 45)\n",
    "plt.title('Динамика расходов и доходов от привлечения первой когорты')\n",
    "plt.xlabel(None)\n",
    "plt.ylabel('Сумма')\n",
    "plt.legend(title='Доход/расход') \n",
    "plt.show()"
   ]
  },
  {
   "cell_type": "markdown",
   "id": "23ec86cb",
   "metadata": {},
   "source": [
    "В целом, в ситуации, когда каждый игрок будет ежедневно переходить по ссылке в рекламном объявлении каждый раз, когда он будет приступать к выбору типа сооружения (напомним, что это в среднем 1 раз в день для каждого игрока), первые 4 дня реклама по всем источникам в совокупности  будет окупаться. Затем расходы на привлечение начинают превышать стоимость игроков - вероятно это связано с их переходом на другой уровень.\n",
    "\n",
    "На данном этапе становится заметно, что показывать рекламу на этапе выбора сооружения - эффективная тактика в случае, если рекламный баннер будет размещаться при каждом переходе на страницу с выбором типа объекта постройки. С учетом того, что игрок будет видеть рекламу только 1 раз в день, маловероятно, что такая реклама будет отталкивающей."
   ]
  },
  {
   "cell_type": "markdown",
   "id": "594ba371",
   "metadata": {},
   "source": [
    "Посчитаем и визуализируем доход/расход с каждого пользователя в разбивке по каналам привлечения.\n"
   ]
  },
  {
   "cell_type": "code",
   "execution_count": 50,
   "id": "8ff9cf07",
   "metadata": {
    "scrolled": true
   },
   "outputs": [
    {
     "data": {
      "text/html": [
       "<div>\n",
       "<style scoped>\n",
       "    .dataframe tbody tr th:only-of-type {\n",
       "        vertical-align: middle;\n",
       "    }\n",
       "\n",
       "    .dataframe tbody tr th {\n",
       "        vertical-align: top;\n",
       "    }\n",
       "\n",
       "    .dataframe thead th {\n",
       "        text-align: right;\n",
       "    }\n",
       "</style>\n",
       "<table border=\"1\" class=\"dataframe\">\n",
       "  <thead>\n",
       "    <tr style=\"text-align: right;\">\n",
       "      <th></th>\n",
       "      <th>first_dt</th>\n",
       "      <th>source</th>\n",
       "      <th>profit</th>\n",
       "      <th>cac</th>\n",
       "    </tr>\n",
       "  </thead>\n",
       "  <tbody>\n",
       "    <tr>\n",
       "      <th>0</th>\n",
       "      <td>2020-05-04</td>\n",
       "      <td>facebook_ads</td>\n",
       "      <td>888.37</td>\n",
       "      <td>935.36</td>\n",
       "    </tr>\n",
       "    <tr>\n",
       "      <th>1</th>\n",
       "      <td>2020-05-04</td>\n",
       "      <td>instagram_new_adverts</td>\n",
       "      <td>1076.88</td>\n",
       "      <td>943.80</td>\n",
       "    </tr>\n",
       "    <tr>\n",
       "      <th>2</th>\n",
       "      <td>2020-05-04</td>\n",
       "      <td>yandex_direct</td>\n",
       "      <td>1506.33</td>\n",
       "      <td>976.66</td>\n",
       "    </tr>\n",
       "    <tr>\n",
       "      <th>3</th>\n",
       "      <td>2020-05-04</td>\n",
       "      <td>youtube_channel_reklama</td>\n",
       "      <td>837.34</td>\n",
       "      <td>458.40</td>\n",
       "    </tr>\n",
       "    <tr>\n",
       "      <th>4</th>\n",
       "      <td>2020-05-05</td>\n",
       "      <td>facebook_ads</td>\n",
       "      <td>489.93</td>\n",
       "      <td>548.26</td>\n",
       "    </tr>\n",
       "  </tbody>\n",
       "</table>\n",
       "</div>"
      ],
      "text/plain": [
       "     first_dt                   source   profit     cac\n",
       "0  2020-05-04             facebook_ads   888.37  935.36\n",
       "1  2020-05-04    instagram_new_adverts  1076.88  943.80\n",
       "2  2020-05-04            yandex_direct  1506.33  976.66\n",
       "3  2020-05-04  youtube_channel_reklama   837.34  458.40\n",
       "4  2020-05-05             facebook_ads   489.93  548.26"
      ]
     },
     "execution_count": 50,
     "metadata": {},
     "output_type": "execute_result"
    }
   ],
   "source": [
    "source_profit = profiles.groupby(['first_dt','source']).agg({'building_count':'sum', 'cac':'sum'}).reset_index()\n",
    "source_profit['building_count'] = source_profit['building_count']*0.07\n",
    "source_profit=source_profit.rename(columns={'building_count':'profit'})\n",
    "source_profit.head()"
   ]
  },
  {
   "cell_type": "code",
   "execution_count": 51,
   "id": "36d040ad",
   "metadata": {
    "scrolled": false
   },
   "outputs": [
    {
     "data": {
      "image/png": "[encoded data removed]",
      "text/plain": [
       "<Figure size 1008x288 with 1 Axes>"
      ]
     },
     "metadata": {},
     "output_type": "display_data"
    },
    {
     "data": {
      "image/png": "[encoded data removed]",
      "text/plain": [
       "<Figure size 1008x288 with 1 Axes>"
      ]
     },
     "metadata": {},
     "output_type": "display_data"
    },
    {
     "data": {
      "image/png": "[encoded data removed]",
      "text/plain": [
       "<Figure size 1008x288 with 1 Axes>"
      ]
     },
     "metadata": {},
     "output_type": "display_data"
    },
    {
     "data": {
      "image/png": "[encoded data removed]",
      "text/plain": [
       "<Figure size 1008x288 with 1 Axes>"
      ]
     },
     "metadata": {},
     "output_type": "display_data"
    }
   ],
   "source": [
    "for vol in ['facebook_ads', 'instagram_new_adverts', 'yandex_direct', 'youtube_channel_reklama']:  \n",
    "    source_profit[source_profit['source'] == vol].plot(x='first_dt',grid=True, \n",
    "                                     kind='bar', legend=True, \n",
    "                                     figsize=(14, 4), cmap='Dark2', \n",
    "                                     rot = 45)\n",
    "    plt.title('Динамика расходов и доходов игроков канала {}'.format(vol))\n",
    "    plt.xlabel(None)\n",
    "    plt.ylabel('Сумма')\n",
    "    plt.legend(title='Доход/расход') \n",
    "    plt.show()"
   ]
  },
  {
   "cell_type": "markdown",
   "id": "73441064",
   "metadata": {},
   "source": [
    "Согласно нашим расчетам совершенно не будет окупаться рекламная кампания в `facebook_ads`, при этом и количество пользователей, привлеченных из указанного источника, минимально. \n",
    "\n",
    "С 3-го дня не окупаются расходы на `instagram_new_adverts`. Высокой окупаемостью обладают `yandex_direct` и  `youtube_channel_reklama`. Однако стоит помнить, что  `yandex_direct` - лидер по количеству привлеченных пользователей, а `youtube_channel_reklama` - на последнем месте по данному показателю."
   ]
  },
  {
   "cell_type": "markdown",
   "id": "eef4f71e",
   "metadata": {},
   "source": [
    "Мы предположили, что реклама должна быть размещена на странице выбора типа сооружения каждый раз, когда пользователь заходит на указанную страницу. Учитывая риски оттока игроков, недовольных навязчивой рекламой, рассчитаем возможный доход от размещения рекламы, если объявление будет появляться со 2-й постройки.\n",
    "\n",
    "Для начала определим доход от первых построек каждого игрока когорты."
   ]
  },
  {
   "cell_type": "code",
   "execution_count": 52,
   "id": "dca7ef8c",
   "metadata": {},
   "outputs": [
    {
     "data": {
      "text/html": [
       "<div>\n",
       "<style scoped>\n",
       "    .dataframe tbody tr th:only-of-type {\n",
       "        vertical-align: middle;\n",
       "    }\n",
       "\n",
       "    .dataframe tbody tr th {\n",
       "        vertical-align: top;\n",
       "    }\n",
       "\n",
       "    .dataframe thead th {\n",
       "        text-align: right;\n",
       "    }\n",
       "</style>\n",
       "<table border=\"1\" class=\"dataframe\">\n",
       "  <thead>\n",
       "    <tr style=\"text-align: right;\">\n",
       "      <th></th>\n",
       "      <th>first_dt</th>\n",
       "      <th>first_building</th>\n",
       "    </tr>\n",
       "  </thead>\n",
       "  <tbody>\n",
       "    <tr>\n",
       "      <th>0</th>\n",
       "      <td>2020-05-04</td>\n",
       "      <td>410.20</td>\n",
       "    </tr>\n",
       "    <tr>\n",
       "      <th>1</th>\n",
       "      <td>2020-05-05</td>\n",
       "      <td>235.27</td>\n",
       "    </tr>\n",
       "    <tr>\n",
       "      <th>2</th>\n",
       "      <td>2020-05-06</td>\n",
       "      <td>129.29</td>\n",
       "    </tr>\n",
       "    <tr>\n",
       "      <th>3</th>\n",
       "      <td>2020-05-07</td>\n",
       "      <td>77.63</td>\n",
       "    </tr>\n",
       "    <tr>\n",
       "      <th>4</th>\n",
       "      <td>2020-05-08</td>\n",
       "      <td>48.16</td>\n",
       "    </tr>\n",
       "  </tbody>\n",
       "</table>\n",
       "</div>"
      ],
      "text/plain": [
       "     first_dt  first_building\n",
       "0  2020-05-04          410.20\n",
       "1  2020-05-05          235.27\n",
       "2  2020-05-06          129.29\n",
       "3  2020-05-07           77.63\n",
       "4  2020-05-08           48.16"
      ]
     },
     "execution_count": 52,
     "metadata": {},
     "output_type": "execute_result"
    }
   ],
   "source": [
    "first_type = game_actions.groupby(['first_dt','user_id']).agg({'building_type':'first'}).reset_index()\n",
    "firsts = first_type.groupby(['first_dt']).agg({'building_type':'count'}).reset_index()\n",
    "firsts = firsts.rename(columns={'building_type':'first_building'})\n",
    "firsts['first_building'] = firsts['first_building']*0.07\n",
    "firsts.head()"
   ]
  },
  {
   "cell_type": "markdown",
   "id": "0e0bc846",
   "metadata": {},
   "source": [
    "Присоединим полученные значения к таблицы с ежедневными доходами и расходами на привлечение игроков и скорректируем значение дохода, вычтя из него возможный доход от кликов при постройке каждого первого сооружения."
   ]
  },
  {
   "cell_type": "code",
   "execution_count": 53,
   "id": "094b327a",
   "metadata": {},
   "outputs": [
    {
     "data": {
      "text/html": [
       "<div>\n",
       "<style scoped>\n",
       "    .dataframe tbody tr th:only-of-type {\n",
       "        vertical-align: middle;\n",
       "    }\n",
       "\n",
       "    .dataframe tbody tr th {\n",
       "        vertical-align: top;\n",
       "    }\n",
       "\n",
       "    .dataframe thead th {\n",
       "        text-align: right;\n",
       "    }\n",
       "</style>\n",
       "<table border=\"1\" class=\"dataframe\">\n",
       "  <thead>\n",
       "    <tr style=\"text-align: right;\">\n",
       "      <th></th>\n",
       "      <th>first_dt</th>\n",
       "      <th>profit</th>\n",
       "      <th>cac</th>\n",
       "      <th>first_building</th>\n",
       "    </tr>\n",
       "  </thead>\n",
       "  <tbody>\n",
       "    <tr>\n",
       "      <th>0</th>\n",
       "      <td>2020-05-04</td>\n",
       "      <td>3898.72</td>\n",
       "      <td>3314.22</td>\n",
       "      <td>410.20</td>\n",
       "    </tr>\n",
       "    <tr>\n",
       "      <th>1</th>\n",
       "      <td>2020-05-05</td>\n",
       "      <td>2091.74</td>\n",
       "      <td>1863.99</td>\n",
       "      <td>235.27</td>\n",
       "    </tr>\n",
       "    <tr>\n",
       "      <th>2</th>\n",
       "      <td>2020-05-06</td>\n",
       "      <td>1034.67</td>\n",
       "      <td>1026.83</td>\n",
       "      <td>129.29</td>\n",
       "    </tr>\n",
       "    <tr>\n",
       "      <th>3</th>\n",
       "      <td>2020-05-07</td>\n",
       "      <td>553.56</td>\n",
       "      <td>619.46</td>\n",
       "      <td>77.63</td>\n",
       "    </tr>\n",
       "    <tr>\n",
       "      <th>4</th>\n",
       "      <td>2020-05-08</td>\n",
       "      <td>293.86</td>\n",
       "      <td>391.52</td>\n",
       "      <td>48.16</td>\n",
       "    </tr>\n",
       "  </tbody>\n",
       "</table>\n",
       "</div>"
      ],
      "text/plain": [
       "     first_dt   profit      cac  first_building\n",
       "0  2020-05-04  3898.72  3314.22          410.20\n",
       "1  2020-05-05  2091.74  1863.99          235.27\n",
       "2  2020-05-06  1034.67  1026.83          129.29\n",
       "3  2020-05-07   553.56   619.46           77.63\n",
       "4  2020-05-08   293.86   391.52           48.16"
      ]
     },
     "execution_count": 53,
     "metadata": {},
     "output_type": "execute_result"
    }
   ],
   "source": [
    "daily_profit = daily_profit.merge(firsts, on='first_dt', how='left')\n",
    "daily_profit['profit'] = daily_profit['profit'] - daily_profit['first_building']\n",
    "daily_profit.head()"
   ]
  },
  {
   "cell_type": "markdown",
   "id": "411ad476",
   "metadata": {},
   "source": [
    "Построим еще один график с визуализацией результатов:"
   ]
  },
  {
   "cell_type": "code",
   "execution_count": 54,
   "id": "7bea198b",
   "metadata": {},
   "outputs": [
    {
     "data": {
      "image/png": "[encoded data removed]",
      "text/plain": [
       "<Figure size 864x432 with 1 Axes>"
      ]
     },
     "metadata": {},
     "output_type": "display_data"
    }
   ],
   "source": [
    "daily_profit.plot(x='first_dt',grid=True, kind='bar', legend=True, figsize=(12, 6), cmap='Dark2', rot = 45)\n",
    "plt.title('Динамика расходов и доходов без учета дохода от первой постройки')\n",
    "plt.xlabel(None)\n",
    "plt.ylabel('Сумма')\n",
    "plt.legend(title='Доход/расход') \n",
    "plt.show()"
   ]
  },
  {
   "cell_type": "markdown",
   "id": "c6f82256",
   "metadata": {},
   "source": [
    "На первоначальном графике динамики расходов и доходов от привлечения первой когорты, реклама переставала окупаться только на 5й день. После сокращения показа рекламы для каждой первой постройки, расходы на привлечение перестали покрываться уже на 4й день когорты. \n",
    "\n",
    "Значит, даже при сохранении уровня активности пользователей и при условии, что каждый просмотр рекламного объявления будет заканчиваться кликом по нему, расходы на привлечение этих игроков могут не окупиться. А сокращение показа рекламы для первых построек только усугубят ситуацию, увеличив расзрыв между доходами и расходами на рекламу."
   ]
  },
  {
   "cell_type": "markdown",
   "id": "640f1fb9",
   "metadata": {},
   "source": [
    "## Проверим статистические гипотезы"
   ]
  },
  {
   "cell_type": "markdown",
   "id": "2891187a",
   "metadata": {},
   "source": [
    "Теперь проверим гипотезы о наличии/отсутствии различий между временем прохождения и количеством построенных объектов у  пользователей, которые заканчивают уровень через реализацию проекта, и пользователей, которые заканчивают уровень победой над другим игроком.\n",
    "\n",
    "Пороговое значение alpha зададим равным 0.05. Для проверки гипотез мы будем использовать t-тест, и учтем, что выборки не равны, указав equal_var = False.\n",
    "\n",
    "Так как выборки независимы, применим метод st.ttest_ind."
   ]
  },
  {
   "cell_type": "markdown",
   "id": "b0362f57",
   "metadata": {},
   "source": [
    "__Нулевая гипотеза:__ Статистически значимых различий между временем прохождения уровня у пользователей, которые заканчивают уровень через реализацию проекта, и пользователей, которые заканчивают уровень победой над другим игроком, нет.\n",
    "\n",
    "__Альтернативная гипотеза:__ Статистически значимые различия между временем прохождения уровня у пользователей, которые заканчивают уровень через реализацию проекта, и пользователей, которые заканчивают уровень победой над другим игроком, есть.\n"
   ]
  },
  {
   "cell_type": "code",
   "execution_count": 55,
   "id": "35accfc3",
   "metadata": {},
   "outputs": [
    {
     "name": "stdout",
     "output_type": "stream",
     "text": [
      "Разница в среднем времени прохождения уровня у pve и pvp: 2.3381039925583575\n",
      "p-значение: 6.570466755643636e-105\n",
      "Отвергаем нулевую гипотезу\n"
     ]
    }
   ],
   "source": [
    "data1 = profiles[profiles['finish'] == 'pve']['duration']\n",
    "data2  = profiles[profiles['finish'] == 'pvp']['duration']\n",
    "\n",
    "alpha = .05 \n",
    "\n",
    "results = st.ttest_ind(\n",
    "    data1, \n",
    "    data2,\n",
    "    equal_var = False)\n",
    "\n",
    "print('Разница в среднем времени прохождения уровня у pve и pvp:', \n",
    "      profiles[profiles['finish'] == 'pve']['duration'].mean()-profiles[profiles['finish'] == 'pvp']['duration'].mean())\n",
    "\n",
    "print('p-значение:', results.pvalue)\n",
    "\n",
    "if results.pvalue < alpha:\n",
    "    print(\"Отвергаем нулевую гипотезу\")\n",
    "else:\n",
    "    print(\"Не получилось отвергнуть нулевую гипотезу\")"
   ]
  },
  {
   "cell_type": "markdown",
   "id": "b4760214",
   "metadata": {},
   "source": [
    "__Вывод__\n",
    "Мы отвергли первую нулевую гипотезу. Значит, различие в 2.33 дня между временем прохождения уровня у игроков `pve` и `pvp` является статистически значимым."
   ]
  },
  {
   "cell_type": "markdown",
   "id": "576cbef4",
   "metadata": {},
   "source": [
    "__Нулевая гипотеза:__ Статистически значимых различий между  количеством построенных объектов у пользователей, которые заканчивают уровень через реализацию проекта, и пользователей, которые заканчивают уровень победой над другим игроком, нет.\n",
    "\n",
    "__Альтернативная гипотеза:__ Статистически значимые различия между количеством построенных объектов  у пользователей, которые заканчивают уровень через реализацию проекта, и пользователей, которые заканчивают уровень победой над другим игроком, есть.\n"
   ]
  },
  {
   "cell_type": "code",
   "execution_count": 56,
   "id": "02b47734",
   "metadata": {},
   "outputs": [
    {
     "name": "stdout",
     "output_type": "stream",
     "text": [
      "Разница в среднем времени прохождения уровня у pve и pvp: 4.236368585917035\n",
      "p-значение: 0.0\n",
      "Отвергаем нулевую гипотезу\n"
     ]
    }
   ],
   "source": [
    "data1 = profiles[profiles['finish'] == 'pve']['building_count']\n",
    "data2  = profiles[profiles['finish'] == 'pvp']['building_count']\n",
    "\n",
    "alpha = .05\n",
    "\n",
    "results = st.ttest_ind(\n",
    "    data1, \n",
    "    data2,\n",
    "    equal_var = False)\n",
    "\n",
    "print('Разница в среднем времени прохождения уровня у pve и pvp:', \n",
    "      profiles[profiles['finish'] == 'pve']['building_count'].mean()-profiles[profiles['finish'] == 'pvp']['building_count'].mean())\n",
    "\n",
    "print('p-значение:', results.pvalue)\n",
    "\n",
    "if results.pvalue < alpha:\n",
    "    print(\"Отвергаем нулевую гипотезу\")\n",
    "else:\n",
    "    print(\"Не получилось отвергнуть нулевую гипотезу\")"
   ]
  },
  {
   "cell_type": "markdown",
   "id": "f219bd83",
   "metadata": {},
   "source": [
    "__Вывод__\n",
    "Мы отвергли первую нулевую гипотезу. Значит, различие в 4.23  между количествами построенных объектов у игроков`pve` и `pvp` является статистически значимым."
   ]
  },
  {
   "cell_type": "markdown",
   "id": "49c9ad73",
   "metadata": {},
   "source": [
    "<div class=\"alert alert-danger\">\n",
    "<b>Комментарий ревьюера v2.0:</b>☀️Хорошая практика - обосновывать выбор уровня значимости и критерия проверки</div>"
   ]
  },
  {
   "cell_type": "markdown",
   "id": "871902ef",
   "metadata": {},
   "source": [
    "<div class=\"alert alert-info\"> <b>Комментарий студента:</b>  Добавила </div>"
   ]
  },
  {
   "cell_type": "markdown",
   "id": "a449b300",
   "metadata": {},
   "source": [
    "<div class=\"alert alert-success\">\n",
    "<b>Комментарий ревьюера:</b>☀️Да, теперь здесь все отлично</div>\n"
   ]
  },
  {
   "cell_type": "markdown",
   "id": "6f473a4e",
   "metadata": {},
   "source": [
    "## Выводы и рекомендации"
   ]
  },
  {
   "cell_type": "markdown",
   "id": "051cf4d9",
   "metadata": {},
   "source": [
    "> __Мы провели подготовку данных к исследованию, изучили их содержание и добавили в основной датафрейм необходимые нам столбцы.__\n",
    "\n",
    "Мы определили, что проекты -  `satellite_orbital_assembly` - это также тип постройки.  Поэтому, проводя анализ влияния различных параметров на участие игроков в целевом событии - выборе типа постройки, мы связали выполнение игроками целевого события с количеством построенных ими объектов, в числе которых учитывали также выполнение ими проекты.\n",
    "\n",
    "> __В ходе исследовательского анализа мы сделали следующие выводы.__\n",
    "\n",
    "- Первую неделю игры пользователи предпочитали только сооружать новые постройки. К выполнению проекта игроки начали приступать только с 8го мая.\n",
    "\n",
    "- За 32 дня пользователи построили 127 956 сооружений (включая проекты).\n",
    "\n",
    "- Однако ввиду большого количество пользователей в когорте (около 13,5 тыс.) в день каждый из пользователей проходил в среднем только одно событие, и, значит, количество целевых событий для каждого игрока в день почти никогда не превышает отметку 1.\n",
    "\n",
    "- В первые дни пользования игрой игроки в основном выбирали `assembly_shop`, затем популярность начали набирать `spaceport` и `research_center`. Учитывая уровень популярности `assembly_shop` и внезапное прекращение графика по указанному объекту с окончанием первой недели, можно предположить, что указанный тип постройки являлся обязательным для новых пользователей. \n",
    "\n",
    "> __Мы сформировали пользовательские профили и проверили уровень влияния различных параметров на совершение целевого события.__\n",
    "\n",
    "-  Мы определии общее количество пройденных этапов и событий, а также статус прохождения/непрохождения уровня. Для тех игроков, кто прошел уровень победой над соперником, установим статус `pvp` - `player vs player`, а тем, кто прошел уровень выполнением проекта: `pve` - `player vs environment`.\n",
    "\n",
    "\n",
    "- По количеству событий, совершенных за месяц, длительности прохождения и количеству построек на одного игрока игроки `pve` значительно опережают две другие категории.\n",
    "\n",
    "- Однако игроков `pvp` больше по количеству, ввиду чего суммарное количество построек для игроков `pvp` превысило количество сооружений игроков `pve`. Следовательно, несмотря на то, что среднее число построек у каждого из игроков `pvp` меньше, чем у игроков `pve`, ввиду превышения количества `pvp` над количеством `pve`, категория `pvp` достигала целевого события чаще, чем их оппоненты.\n",
    "\n",
    "- Большинство игроков когорты привлечены через `yandex_direct`, менее всего привлечены из `youtube_channel_reklama`. По количеству активных пользователей между каналами сохранена последовательность от большего к меньшему в соответствии с долями каналов в общей массе пользователей.\n",
    "\n",
    "- В среднем длительность прохождения уровня у разных каналов совпадает, однако игроки, пришедшие через `youtube_channel_reklama` склонны тратить меньше времени на 1-м уровне. Лидерами по числу построенных объектов на игрока являются `facebook_ads` и `instagram_new_adverts`.\n",
    "\n",
    "- Совершенно не будет окупаться рекламная кампания в `facebook_ads`, при этом и количество пользователей, привлеченных из указанного источника, минимально.  С 3-го дня не окупаются расходы на `instagram_new_adverts`. Высокой окупаемостью обладают `yandex_direct` и  `youtube_channel_reklama`. Однако стоит помнить, что  `yandex_direct` - лидер по количеству привлеченных пользователей, а `youtube_channel_reklama` - на последнем месте по данному показателю.\n",
    "\n",
    "- В целом, в ситуации, когда каждый игрок будет ежедневно переходить по ссылке в рекламном объявлении каждый раз, когда он будет приступать к выбору типа сооружения (напомним, что это в среднем 1 раз в день для каждого игрока), первые 4 дня реклама по всем источникам в совокупности  будет окупаться. Затем расходы на привлечение начинают превышать стоимость игроков - вероятно это связано с их переходом на другой уровень.\n",
    "\n",
    "- На первоначальном графике динамики расходов и доходов от привлечения первой когорты, реклама переставала окупаться только на 5й день. После сокращения показа рекламы для каждой первой постройки, расходы на привлечение перестали покрываться уже на 4й день когорты. \n",
    "\n",
    "Значит, даже при сохранении уровня активности пользователей и при условии, что каждый просмотр рекламного объявления будет заканчиваться кликом по нему, расходы на привлечение этих игроков могут не окупиться. А сокращение показа рекламыдля первых построек только усугубят ситуацию, увеличив расзрыв между доходами и расходами на рекламу.\n",
    "\n",
    "\n",
    ">__Мы проверили статистические гипотезы__\n",
    "\n",
    "- Определили, что различие в длительности прохождения первого уровня игры, равное 2.33 дням, у игроков `pve` и `pvp` является статистически значимым.\n",
    "\n",
    "- Определили, что различие в количестве построенных объектов,равное 4.23, у игроков `pve` и `pvp` является статистически значимым.\n",
    "\n",
    "Следовательно, игроки `pve` в целом значительно дольше остаются на 1-м уровне игры и сооружают больше объектов.\n",
    "\n",
    "> __Рекомендации заказчику.__\n",
    "\n",
    "- __Сокращение расходов__ -  прежде всего сократить вложения в рекламную кампанию в `facebook_ads`, не привлекающего большое количество активных пользователей и имеющего наиболее высокую цену за привлечение.\n",
    "\n",
    "- __Увеличение частоты событий, ведущих к целевому__ - клику по рекламному объявлению. Мы выяснили, что у игроков `pve` длительность нахождения на 1м уровне и количество построек значительно выше, чем у игроков, избравших стратегию `pvp`. Между тем, количество игроков `pvp` больше половины из тех, кто завершил уровень. Целесообразно стимулировать игроков к прохождению уровня через выполнение проекта - это приведет к увеличению их времени нахождения на текущем уровне и увеличению количества построек.\n",
    "\n",
    "- __Размещение рекламы__ - на данном этапе становится заметно, что показывать рекламу на этапе выбора сооружения - эффективная тактика в случае, если рекламный баннер будет размещаться при каждом переходе на страницу с выбором типа объекта постройки. С учетом того, что игрок будет видеть рекламу только 1 раз в день, маловероятно, что такая реклама будет отталкивающей.\n",
    "\n",
    "- __Не рекомендуется__ каким-либо образом сокращать рекламу, например, не показывать рекламный баннер при выборе первой постройки для каждого игрока. Такое сокращение только усугубит ситуацию и приведет к сокращению дохода в первые - наиболее затратные - дни, увеличив разрыв между доходами от рекламы и расходами на нее."
   ]
  },
  {
   "cell_type": "markdown",
   "id": "ffbc5035",
   "metadata": {},
   "source": [
    "<div class=\"alert alert-danger\">\n",
    "<b>Комментарий ревьюера v2.0:</b>☀️Проект отличный, видно, что ты приложила много усилий. Но я не увидела расчет общих затрат на маркетинг, а так же САС тоже нужно посчитать, чтобы понять, как именно нам окупить расходы. После какого по счету здания нужно показывать рекламу? - вот на этот вопрос постарайся ответить, пожалуйста. Показывать рекламу с первого объекта пользователю - эта модель, во-первых, явно не окупит расходы. (1 показ на пользователя, привлечение явно дороже чем клик). Во-вторых, рекламная нагрузка с первого же действия в игре - оптимально ли это? Другие мои комментарии ты можешь найти по ходу проекта. Отправляю тебе на доработку и жду на повторную проверку:) У тебя все получится! </div>"
   ]
  },
  {
   "cell_type": "markdown",
   "id": "4b03ab65",
   "metadata": {},
   "source": [
    "<div class=\"alert alert-info\"> <b>Комментарий студента:</b>  Спасибо за проверку! Затраты и САС добавила, выводы тоже исправила :) </div>"
   ]
  }
 ],
 "metadata": {
  "ExecuteTimeLog": [
   {
    "duration": 1269,
    "start_time": "2022-11-04T09:37:20.399Z"
   },
   {
    "duration": 906,
    "start_time": "2022-11-04T09:37:21.670Z"
   },
   {
    "duration": 6,
    "start_time": "2022-11-04T09:37:22.577Z"
   },
   {
    "duration": 43,
    "start_time": "2022-11-04T09:37:22.585Z"
   },
   {
    "duration": 409,
    "start_time": "2022-11-04T09:37:22.629Z"
   },
   {
    "duration": 39,
    "start_time": "2022-11-04T09:37:23.040Z"
   },
   {
    "duration": 24,
    "start_time": "2022-11-04T09:37:23.081Z"
   },
   {
    "duration": 9,
    "start_time": "2022-11-04T09:37:23.106Z"
   },
   {
    "duration": 34,
    "start_time": "2022-11-04T09:37:23.117Z"
   },
   {
    "duration": 33,
    "start_time": "2022-11-04T09:37:23.153Z"
   },
   {
    "duration": 16,
    "start_time": "2022-11-04T09:37:23.188Z"
   },
   {
    "duration": 36,
    "start_time": "2022-11-04T09:37:23.205Z"
   },
   {
    "duration": 149,
    "start_time": "2022-11-04T09:37:23.242Z"
   },
   {
    "duration": 46,
    "start_time": "2022-11-04T09:37:23.393Z"
   },
   {
    "duration": 45,
    "start_time": "2022-11-04T09:37:23.440Z"
   },
   {
    "duration": 51,
    "start_time": "2022-11-04T09:37:23.487Z"
   },
   {
    "duration": 67,
    "start_time": "2022-11-04T09:37:23.539Z"
   },
   {
    "duration": 47,
    "start_time": "2022-11-04T09:37:23.608Z"
   },
   {
    "duration": 353,
    "start_time": "2022-11-04T09:37:23.657Z"
   },
   {
    "duration": 20,
    "start_time": "2022-11-04T09:37:24.012Z"
   },
   {
    "duration": 19,
    "start_time": "2022-11-04T09:37:24.033Z"
   },
   {
    "duration": 59,
    "start_time": "2022-11-04T09:37:24.053Z"
   },
   {
    "duration": 8,
    "start_time": "2022-11-04T09:37:24.113Z"
   },
   {
    "duration": 873,
    "start_time": "2022-11-04T09:37:24.122Z"
   },
   {
    "duration": 701,
    "start_time": "2022-11-04T09:37:24.997Z"
   },
   {
    "duration": 126,
    "start_time": "2022-11-04T09:37:25.699Z"
   },
   {
    "duration": 365,
    "start_time": "2022-11-04T09:37:25.826Z"
   },
   {
    "duration": 82,
    "start_time": "2022-11-04T09:37:26.194Z"
   },
   {
    "duration": 67,
    "start_time": "2022-11-04T09:37:26.277Z"
   },
   {
    "duration": 167,
    "start_time": "2022-11-04T09:37:26.346Z"
   },
   {
    "duration": 1031,
    "start_time": "2022-11-04T09:37:26.515Z"
   },
   {
    "duration": 19,
    "start_time": "2022-11-04T09:37:27.548Z"
   },
   {
    "duration": 36,
    "start_time": "2022-11-04T09:37:27.577Z"
   },
   {
    "duration": 18,
    "start_time": "2022-11-04T09:37:27.614Z"
   },
   {
    "duration": 1124,
    "start_time": "2022-11-04T09:37:27.633Z"
   },
   {
    "duration": 11,
    "start_time": "2022-11-04T09:37:28.759Z"
   },
   {
    "duration": 97,
    "start_time": "2022-11-04T09:37:28.771Z"
   },
   {
    "duration": 114,
    "start_time": "2022-11-04T09:37:28.870Z"
   },
   {
    "duration": 0,
    "start_time": "2022-11-04T09:37:28.986Z"
   },
   {
    "duration": 0,
    "start_time": "2022-11-04T09:37:28.987Z"
   },
   {
    "duration": 0,
    "start_time": "2022-11-04T09:37:28.988Z"
   },
   {
    "duration": 0,
    "start_time": "2022-11-04T09:37:28.990Z"
   },
   {
    "duration": 0,
    "start_time": "2022-11-04T09:37:28.991Z"
   },
   {
    "duration": 0,
    "start_time": "2022-11-04T09:37:28.992Z"
   },
   {
    "duration": 0,
    "start_time": "2022-11-04T09:37:28.993Z"
   },
   {
    "duration": 0,
    "start_time": "2022-11-04T09:37:28.994Z"
   },
   {
    "duration": 1351,
    "start_time": "2022-11-04T19:14:50.304Z"
   },
   {
    "duration": 757,
    "start_time": "2022-11-04T19:14:51.657Z"
   },
   {
    "duration": 7,
    "start_time": "2022-11-04T19:14:52.416Z"
   },
   {
    "duration": 56,
    "start_time": "2022-11-04T19:14:52.425Z"
   },
   {
    "duration": 441,
    "start_time": "2022-11-04T19:14:52.482Z"
   },
   {
    "duration": 27,
    "start_time": "2022-11-04T19:14:52.925Z"
   },
   {
    "duration": 56,
    "start_time": "2022-11-04T19:14:52.954Z"
   },
   {
    "duration": 11,
    "start_time": "2022-11-04T19:14:53.012Z"
   },
   {
    "duration": 37,
    "start_time": "2022-11-04T19:14:53.025Z"
   },
   {
    "duration": 13,
    "start_time": "2022-11-04T19:14:53.065Z"
   },
   {
    "duration": 38,
    "start_time": "2022-11-04T19:14:53.080Z"
   },
   {
    "duration": 43,
    "start_time": "2022-11-04T19:14:53.120Z"
   },
   {
    "duration": 157,
    "start_time": "2022-11-04T19:14:53.164Z"
   },
   {
    "duration": 52,
    "start_time": "2022-11-04T19:14:53.322Z"
   },
   {
    "duration": 47,
    "start_time": "2022-11-04T19:14:53.376Z"
   },
   {
    "duration": 52,
    "start_time": "2022-11-04T19:14:53.425Z"
   },
   {
    "duration": 75,
    "start_time": "2022-11-04T19:14:53.478Z"
   },
   {
    "duration": 61,
    "start_time": "2022-11-04T19:14:53.555Z"
   },
   {
    "duration": 395,
    "start_time": "2022-11-04T19:14:53.617Z"
   },
   {
    "duration": 29,
    "start_time": "2022-11-04T19:14:54.013Z"
   },
   {
    "duration": 22,
    "start_time": "2022-11-04T19:14:54.044Z"
   },
   {
    "duration": 65,
    "start_time": "2022-11-04T19:14:54.068Z"
   },
   {
    "duration": 9,
    "start_time": "2022-11-04T19:14:54.134Z"
   },
   {
    "duration": 814,
    "start_time": "2022-11-04T19:14:54.144Z"
   },
   {
    "duration": 730,
    "start_time": "2022-11-04T19:14:54.959Z"
   },
   {
    "duration": 133,
    "start_time": "2022-11-04T19:14:55.691Z"
   },
   {
    "duration": 379,
    "start_time": "2022-11-04T19:14:55.826Z"
   },
   {
    "duration": 88,
    "start_time": "2022-11-04T19:14:56.208Z"
   },
   {
    "duration": 65,
    "start_time": "2022-11-04T19:14:56.298Z"
   },
   {
    "duration": 164,
    "start_time": "2022-11-04T19:14:56.365Z"
   },
   {
    "duration": 1218,
    "start_time": "2022-11-04T19:14:56.531Z"
   },
   {
    "duration": 22,
    "start_time": "2022-11-04T19:14:57.750Z"
   },
   {
    "duration": 57,
    "start_time": "2022-11-04T19:14:57.774Z"
   },
   {
    "duration": 20,
    "start_time": "2022-11-04T19:14:57.833Z"
   },
   {
    "duration": 1158,
    "start_time": "2022-11-04T19:14:57.855Z"
   },
   {
    "duration": 12,
    "start_time": "2022-11-04T19:14:59.014Z"
   },
   {
    "duration": 103,
    "start_time": "2022-11-04T19:14:59.027Z"
   },
   {
    "duration": 89,
    "start_time": "2022-11-04T19:14:59.131Z"
   },
   {
    "duration": 401,
    "start_time": "2022-11-04T19:14:59.221Z"
   },
   {
    "duration": 22,
    "start_time": "2022-11-04T19:14:59.624Z"
   },
   {
    "duration": 210,
    "start_time": "2022-11-04T19:14:59.648Z"
   },
   {
    "duration": 616,
    "start_time": "2022-11-04T19:14:59.860Z"
   },
   {
    "duration": 1125,
    "start_time": "2022-11-04T19:15:00.477Z"
   },
   {
    "duration": 15,
    "start_time": "2022-11-04T19:15:01.603Z"
   },
   {
    "duration": 13,
    "start_time": "2022-11-04T19:15:01.620Z"
   },
   {
    "duration": 1424,
    "start_time": "2022-11-05T13:54:40.758Z"
   },
   {
    "duration": 1034,
    "start_time": "2022-11-05T13:54:42.187Z"
   },
   {
    "duration": 19,
    "start_time": "2022-11-05T13:54:43.223Z"
   },
   {
    "duration": 55,
    "start_time": "2022-11-05T13:54:43.245Z"
   },
   {
    "duration": 551,
    "start_time": "2022-11-05T13:54:43.302Z"
   },
   {
    "duration": 35,
    "start_time": "2022-11-05T13:54:43.855Z"
   },
   {
    "duration": 57,
    "start_time": "2022-11-05T13:54:43.892Z"
   },
   {
    "duration": 12,
    "start_time": "2022-11-05T13:54:43.951Z"
   },
   {
    "duration": 65,
    "start_time": "2022-11-05T13:54:43.965Z"
   },
   {
    "duration": 18,
    "start_time": "2022-11-05T13:54:44.033Z"
   },
   {
    "duration": 32,
    "start_time": "2022-11-05T13:54:44.053Z"
   },
   {
    "duration": 77,
    "start_time": "2022-11-05T13:54:44.087Z"
   },
   {
    "duration": 200,
    "start_time": "2022-11-05T13:54:44.166Z"
   },
   {
    "duration": 81,
    "start_time": "2022-11-05T13:54:44.368Z"
   },
   {
    "duration": 43,
    "start_time": "2022-11-05T13:54:44.451Z"
   },
   {
    "duration": 84,
    "start_time": "2022-11-05T13:54:44.496Z"
   },
   {
    "duration": 115,
    "start_time": "2022-11-05T13:54:44.583Z"
   },
   {
    "duration": 88,
    "start_time": "2022-11-05T13:54:44.700Z"
   },
   {
    "duration": 426,
    "start_time": "2022-11-05T13:54:44.789Z"
   },
   {
    "duration": 34,
    "start_time": "2022-11-05T13:54:45.217Z"
   },
   {
    "duration": 25,
    "start_time": "2022-11-05T13:54:45.252Z"
   },
   {
    "duration": 74,
    "start_time": "2022-11-05T13:54:45.278Z"
   },
   {
    "duration": 10,
    "start_time": "2022-11-05T13:54:45.354Z"
   },
   {
    "duration": 1109,
    "start_time": "2022-11-05T13:54:45.366Z"
   },
   {
    "duration": 992,
    "start_time": "2022-11-05T13:54:46.477Z"
   },
   {
    "duration": 191,
    "start_time": "2022-11-05T13:54:47.472Z"
   },
   {
    "duration": 454,
    "start_time": "2022-11-05T13:54:47.665Z"
   },
   {
    "duration": 149,
    "start_time": "2022-11-05T13:54:48.124Z"
   },
   {
    "duration": 98,
    "start_time": "2022-11-05T13:54:48.275Z"
   },
   {
    "duration": 226,
    "start_time": "2022-11-05T13:54:48.375Z"
   },
   {
    "duration": 1336,
    "start_time": "2022-11-05T13:54:48.603Z"
   },
   {
    "duration": 24,
    "start_time": "2022-11-05T13:54:49.941Z"
   },
   {
    "duration": 72,
    "start_time": "2022-11-05T13:54:49.967Z"
   },
   {
    "duration": 32,
    "start_time": "2022-11-05T13:54:50.041Z"
   },
   {
    "duration": 1330,
    "start_time": "2022-11-05T13:54:50.075Z"
   },
   {
    "duration": 32,
    "start_time": "2022-11-05T13:54:51.407Z"
   },
   {
    "duration": 116,
    "start_time": "2022-11-05T13:54:51.444Z"
   },
   {
    "duration": 112,
    "start_time": "2022-11-05T13:54:51.562Z"
   },
   {
    "duration": 639,
    "start_time": "2022-11-05T13:54:51.675Z"
   },
   {
    "duration": 38,
    "start_time": "2022-11-05T13:54:52.315Z"
   },
   {
    "duration": 142,
    "start_time": "2022-11-05T13:54:52.355Z"
   },
   {
    "duration": 972,
    "start_time": "2022-11-05T13:54:52.499Z"
   },
   {
    "duration": 1388,
    "start_time": "2022-11-05T13:54:53.473Z"
   },
   {
    "duration": 18,
    "start_time": "2022-11-05T13:54:54.862Z"
   },
   {
    "duration": 36,
    "start_time": "2022-11-05T13:54:54.882Z"
   },
   {
    "duration": 84,
    "start_time": "2022-11-05T13:56:58.954Z"
   },
   {
    "duration": 1346,
    "start_time": "2022-11-08T11:55:10.386Z"
   },
   {
    "duration": 787,
    "start_time": "2022-11-08T11:55:11.735Z"
   },
   {
    "duration": 6,
    "start_time": "2022-11-08T11:55:12.523Z"
   },
   {
    "duration": 54,
    "start_time": "2022-11-08T11:55:12.531Z"
   },
   {
    "duration": 431,
    "start_time": "2022-11-08T11:55:12.586Z"
   },
   {
    "duration": 34,
    "start_time": "2022-11-08T11:55:13.019Z"
   },
   {
    "duration": 28,
    "start_time": "2022-11-08T11:55:13.054Z"
   },
   {
    "duration": 45,
    "start_time": "2022-11-08T11:55:13.084Z"
   },
   {
    "duration": 43,
    "start_time": "2022-11-08T11:55:13.131Z"
   },
   {
    "duration": 12,
    "start_time": "2022-11-08T11:55:13.178Z"
   },
   {
    "duration": 36,
    "start_time": "2022-11-08T11:55:13.192Z"
   },
   {
    "duration": 38,
    "start_time": "2022-11-08T11:55:13.230Z"
   },
   {
    "duration": 169,
    "start_time": "2022-11-08T11:55:13.270Z"
   },
   {
    "duration": 38,
    "start_time": "2022-11-08T11:55:13.440Z"
   },
   {
    "duration": 55,
    "start_time": "2022-11-08T11:55:13.480Z"
   },
   {
    "duration": 56,
    "start_time": "2022-11-08T11:55:13.537Z"
   },
   {
    "duration": 79,
    "start_time": "2022-11-08T11:55:13.595Z"
   },
   {
    "duration": 62,
    "start_time": "2022-11-08T11:55:13.675Z"
   },
   {
    "duration": 383,
    "start_time": "2022-11-08T11:55:13.739Z"
   },
   {
    "duration": 21,
    "start_time": "2022-11-08T11:55:14.123Z"
   },
   {
    "duration": 29,
    "start_time": "2022-11-08T11:55:14.146Z"
   },
   {
    "duration": 59,
    "start_time": "2022-11-08T11:55:14.177Z"
   },
   {
    "duration": 8,
    "start_time": "2022-11-08T11:55:14.238Z"
   },
   {
    "duration": 914,
    "start_time": "2022-11-08T11:55:14.248Z"
   },
   {
    "duration": 797,
    "start_time": "2022-11-08T11:55:15.164Z"
   },
   {
    "duration": 158,
    "start_time": "2022-11-08T11:55:15.963Z"
   },
   {
    "duration": 480,
    "start_time": "2022-11-08T11:55:16.126Z"
   },
   {
    "duration": 94,
    "start_time": "2022-11-08T11:55:16.610Z"
   },
   {
    "duration": 105,
    "start_time": "2022-11-08T11:55:16.706Z"
   },
   {
    "duration": 194,
    "start_time": "2022-11-08T11:55:16.813Z"
   },
   {
    "duration": 1263,
    "start_time": "2022-11-08T11:55:17.009Z"
   },
   {
    "duration": 24,
    "start_time": "2022-11-08T11:55:18.274Z"
   },
   {
    "duration": 61,
    "start_time": "2022-11-08T11:55:18.300Z"
   },
   {
    "duration": 26,
    "start_time": "2022-11-08T11:55:18.363Z"
   },
   {
    "duration": 1216,
    "start_time": "2022-11-08T11:55:18.391Z"
   },
   {
    "duration": 23,
    "start_time": "2022-11-08T11:55:19.609Z"
   },
   {
    "duration": 96,
    "start_time": "2022-11-08T11:55:19.633Z"
   },
   {
    "duration": 84,
    "start_time": "2022-11-08T11:55:19.730Z"
   },
   {
    "duration": 461,
    "start_time": "2022-11-08T11:55:19.815Z"
   },
   {
    "duration": 24,
    "start_time": "2022-11-08T11:55:20.278Z"
   },
   {
    "duration": 236,
    "start_time": "2022-11-08T11:55:20.303Z"
   },
   {
    "duration": 674,
    "start_time": "2022-11-08T11:55:20.540Z"
   },
   {
    "duration": 1180,
    "start_time": "2022-11-08T11:55:21.216Z"
   },
   {
    "duration": 35,
    "start_time": "2022-11-08T11:55:22.398Z"
   },
   {
    "duration": 9,
    "start_time": "2022-11-08T11:55:22.435Z"
   },
   {
    "duration": 30,
    "start_time": "2022-11-08T11:55:22.446Z"
   },
   {
    "duration": 320,
    "start_time": "2022-11-08T11:55:22.477Z"
   },
   {
    "duration": 17,
    "start_time": "2022-11-08T11:55:22.799Z"
   },
   {
    "duration": 217,
    "start_time": "2022-11-08T11:55:22.827Z"
   },
   {
    "duration": 19,
    "start_time": "2022-11-08T11:55:23.046Z"
   },
   {
    "duration": 995,
    "start_time": "2022-11-08T11:55:23.067Z"
   },
   {
    "duration": 70,
    "start_time": "2022-11-08T11:55:24.064Z"
   },
   {
    "duration": 12,
    "start_time": "2022-11-08T11:55:24.136Z"
   },
   {
    "duration": 268,
    "start_time": "2022-11-08T11:55:24.150Z"
   },
   {
    "duration": 20,
    "start_time": "2022-11-08T11:55:24.421Z"
   },
   {
    "duration": 16,
    "start_time": "2022-11-08T11:55:24.443Z"
   }
  ],
  "kernelspec": {
   "display_name": "Python 3 (ipykernel)",
   "language": "python",
   "name": "python3"
  },
  "language_info": {
   "codemirror_mode": {
    "name": "ipython",
    "version": 3
   },
   "file_extension": ".py",
   "mimetype": "text/x-python",
   "name": "python",
   "nbconvert_exporter": "python",
   "pygments_lexer": "ipython3",
   "version": "3.9.7"
  },
  "toc": {
   "base_numbering": 1,
   "nav_menu": {},
   "number_sections": true,
   "sideBar": true,
   "skip_h1_title": true,
   "title_cell": "Оглавление",
   "title_sidebar": "Оглавление",
   "toc_cell": false,
   "toc_position": {
    "height": "calc(100% - 180px)",
    "left": "10px",
    "top": "150px",
    "width": "288px"
   },
   "toc_section_display": true,
   "toc_window_display": true
  }
 },
 "nbformat": 4,
 "nbformat_minor": 5
}
